{
 "cells": [
  {
   "cell_type": "markdown",
   "metadata": {
    "colab_type": "text",
    "id": "2ZB9Azj_DjXl"
   },
   "source": [
    "# Determine whether an image contains a columnar cactus using Convolutional Neural Network (CNN) with Pytorch\n",
    "\n",
    "### Writer: Amrik Singh\n",
    "<i class=\"fa fa-linkedin\" style=\"font-size:20px\"></i>&nbsp;\n",
    "[linkedin.com/in/amrik220/](https://www.linkedin.com/in/amrik220/)&emsp;\n",
    "<i class=\"fa fa-github\" style=\"font-size:20px\"></i>&nbsp;\n",
    "[github.com/amrik220](https://github.com/amrik220)\n",
    "\n",
    "***\n",
    "\n",
    "# Introduction\n",
    "\n",
    "This notebook contains Python code to determine whether an image contains a columnar cactus or not using Convolutional Neural Network (CNN) with Pytorch. The dataset is from [Aerial Cactus Identification, a Kaggle Competition](https://www.kaggle.com/c/aerial-cactus-identification/overview). The dataset can be download from [here](https://www.kaggle.com/c/aerial-cactus-identification/data) and has following files:\n",
    "1. train: training set of 17,500 (32 x 32) thumbnails\n",
    "2. train.csv: training set lables, positive class has_cactus = 1\n",
    "\n",
    "For the purpose of this task, the train dataset will be split into train (.64), validation (.16), test (.2) sets.\n",
    "\n",
    "Programming Environment: Python 3.7.6 and Google Colaboratory"
   ]
  },
  {
   "cell_type": "markdown",
   "metadata": {
    "colab_type": "text",
    "id": "skE00_za92fB"
   },
   "source": [
    "# Set up environment and explore data"
   ]
  },
  {
   "cell_type": "code",
   "execution_count": 23,
   "metadata": {
    "colab": {
     "base_uri": "https://localhost:8080/",
     "height": 50
    },
    "colab_type": "code",
    "executionInfo": {
     "elapsed": 11074,
     "status": "ok",
     "timestamp": 1597496038064,
     "user": {
      "displayName": "Amrik Singh",
      "photoUrl": "https://lh3.googleusercontent.com/a-/AOh14GgQWaPrZ27P4KMHO66jDciIgIdtBUQ47fLBf6mb=s64",
      "userId": "12741216172458192748"
     },
     "user_tz": -600
    },
    "id": "TnY0I3J1y5wh",
    "outputId": "097696f6-e1ef-417d-bc0b-7ef25c3ae3b6"
   },
   "outputs": [
    {
     "name": "stdout",
     "output_type": "stream",
     "text": [
      "Python 3.6.9\n",
      "5.2.2\n"
     ]
    }
   ],
   "source": [
    "# Display output of all code lines in Jupyter notebook\n",
    "from IPython.core.interactiveshell import InteractiveShell\n",
    "InteractiveShell.ast_node_interactivity = \"all\"\n",
    "\n",
    "!python --version # Check python version\n",
    "!jupyter-notebook --version"
   ]
  },
  {
   "cell_type": "markdown",
   "metadata": {
    "colab_type": "text",
    "id": "SHkoyI9FQEPb"
   },
   "source": [
    "## Import required libraries and functions"
   ]
  },
  {
   "cell_type": "code",
   "execution_count": 24,
   "metadata": {
    "colab": {},
    "colab_type": "code",
    "executionInfo": {
     "elapsed": 11068,
     "status": "ok",
     "timestamp": 1597496038071,
     "user": {
      "displayName": "Amrik Singh",
      "photoUrl": "https://lh3.googleusercontent.com/a-/AOh14GgQWaPrZ27P4KMHO66jDciIgIdtBUQ47fLBf6mb=s64",
      "userId": "12741216172458192748"
     },
     "user_tz": -600
    },
    "id": "kp73K4sA9yYF"
   },
   "outputs": [],
   "source": [
    "# Import required libraries and functions\n",
    "import pandas as pd\n",
    "import numpy as np\n",
    "import matplotlib.pyplot as plt\n",
    "import matplotlib.image as img\n",
    "from skimage.io import imread\n",
    "%matplotlib inline\n",
    "from tqdm import tqdm\n",
    "\n",
    "import torch\n",
    "from torch.autograd import Variable\n",
    "from torch.nn import Linear, ReLU, CrossEntropyLoss, Sequential, Conv2d, MaxPool2d, Module, Softmax, BatchNorm2d, Dropout\n",
    "from torch.optim import Adam, SGD\n",
    "\n",
    "from torch.utils.data import Dataset, DataLoader\n",
    "from sklearn.model_selection import train_test_split\n",
    "from sklearn.metrics import accuracy_score"
   ]
  },
  {
   "cell_type": "code",
   "execution_count": 25,
   "metadata": {
    "colab": {},
    "colab_type": "code",
    "executionInfo": {
     "elapsed": 11064,
     "status": "ok",
     "timestamp": 1597496038075,
     "user": {
      "displayName": "Amrik Singh",
      "photoUrl": "https://lh3.googleusercontent.com/a-/AOh14GgQWaPrZ27P4KMHO66jDciIgIdtBUQ47fLBf6mb=s64",
      "userId": "12741216172458192748"
     },
     "user_tz": -600
    },
    "id": "OJvMLf569y9G"
   },
   "outputs": [],
   "source": [
    "# Clone the GitHub respository containing the data files to Colaboratory\n",
    "import os\n",
    "if os.path.exists('/content/imageProcessing') == False:\n",
    "  !git clone https://github.com/amrik220/imageProcessing"
   ]
  },
  {
   "cell_type": "code",
   "execution_count": 26,
   "metadata": {
    "colab": {
     "base_uri": "https://localhost:8080/",
     "height": 212
    },
    "colab_type": "code",
    "executionInfo": {
     "elapsed": 11057,
     "status": "ok",
     "timestamp": 1597496038078,
     "user": {
      "displayName": "Amrik Singh",
      "photoUrl": "https://lh3.googleusercontent.com/a-/AOh14GgQWaPrZ27P4KMHO66jDciIgIdtBUQ47fLBf6mb=s64",
      "userId": "12741216172458192748"
     },
     "user_tz": -600
    },
    "id": "l6hJB_1e9zOg",
    "outputId": "7d9a6205-14ca-463d-eaa1-73fe4fd8e3d4"
   },
   "outputs": [
    {
     "data": {
      "text/html": [
       "<div>\n",
       "<style scoped>\n",
       "    .dataframe tbody tr th:only-of-type {\n",
       "        vertical-align: middle;\n",
       "    }\n",
       "\n",
       "    .dataframe tbody tr th {\n",
       "        vertical-align: top;\n",
       "    }\n",
       "\n",
       "    .dataframe thead th {\n",
       "        text-align: right;\n",
       "    }\n",
       "</style>\n",
       "<table border=\"1\" class=\"dataframe\">\n",
       "  <thead>\n",
       "    <tr style=\"text-align: right;\">\n",
       "      <th></th>\n",
       "      <th>id</th>\n",
       "      <th>has_cactus</th>\n",
       "    </tr>\n",
       "  </thead>\n",
       "  <tbody>\n",
       "    <tr>\n",
       "      <th>0</th>\n",
       "      <td>0004be2cfeaba1c0361d39e2b000257b.jpg</td>\n",
       "      <td>1</td>\n",
       "    </tr>\n",
       "    <tr>\n",
       "      <th>1</th>\n",
       "      <td>000c8a36845c0208e833c79c1bffedd1.jpg</td>\n",
       "      <td>1</td>\n",
       "    </tr>\n",
       "    <tr>\n",
       "      <th>2</th>\n",
       "      <td>000d1e9a533f62e55c289303b072733d.jpg</td>\n",
       "      <td>1</td>\n",
       "    </tr>\n",
       "    <tr>\n",
       "      <th>3</th>\n",
       "      <td>0011485b40695e9138e92d0b3fb55128.jpg</td>\n",
       "      <td>1</td>\n",
       "    </tr>\n",
       "    <tr>\n",
       "      <th>4</th>\n",
       "      <td>0014d7a11e90b62848904c1418fc8cf2.jpg</td>\n",
       "      <td>1</td>\n",
       "    </tr>\n",
       "  </tbody>\n",
       "</table>\n",
       "</div>"
      ],
      "text/plain": [
       "                                     id  has_cactus\n",
       "0  0004be2cfeaba1c0361d39e2b000257b.jpg           1\n",
       "1  000c8a36845c0208e833c79c1bffedd1.jpg           1\n",
       "2  000d1e9a533f62e55c289303b072733d.jpg           1\n",
       "3  0011485b40695e9138e92d0b3fb55128.jpg           1\n",
       "4  0014d7a11e90b62848904c1418fc8cf2.jpg           1"
      ]
     },
     "execution_count": 26,
     "metadata": {
      "tags": []
     },
     "output_type": "execute_result"
    },
    {
     "data": {
      "text/plain": [
       "(17500, 2)"
      ]
     },
     "execution_count": 26,
     "metadata": {
      "tags": []
     },
     "output_type": "execute_result"
    }
   ],
   "source": [
    "# load data labels from the csv file\n",
    "path = '/content/imageProcessing/aerial_cactus_identification/'\n",
    "labels = pd.read_csv(path + 'train.csv')\n",
    "\n",
    "labels.head()\n",
    "labels.shape"
   ]
  },
  {
   "cell_type": "code",
   "execution_count": 27,
   "metadata": {
    "colab": {
     "base_uri": "https://localhost:8080/",
     "height": 118
    },
    "colab_type": "code",
    "executionInfo": {
     "elapsed": 11050,
     "status": "ok",
     "timestamp": 1597496038081,
     "user": {
      "displayName": "Amrik Singh",
      "photoUrl": "https://lh3.googleusercontent.com/a-/AOh14GgQWaPrZ27P4KMHO66jDciIgIdtBUQ47fLBf6mb=s64",
      "userId": "12741216172458192748"
     },
     "user_tz": -600
    },
    "id": "xkF5ysatFR7o",
    "outputId": "138ed0d2-a0a5-458b-bc9c-2c72fa7d3a3c"
   },
   "outputs": [
    {
     "data": {
      "text/plain": [
       "1    13136\n",
       "0     4364\n",
       "Name: has_cactus, dtype: int64"
      ]
     },
     "execution_count": 27,
     "metadata": {
      "tags": []
     },
     "output_type": "execute_result"
    },
    {
     "name": "stdout",
     "output_type": "stream",
     "text": [
      "\n",
      "\n",
      "Percentage of cactus: 75.06\n",
      "Percentage of not_cactus: 24.94\n"
     ]
    }
   ],
   "source": [
    "# check class balance\n",
    "table = labels.has_cactus.value_counts()\n",
    "table\n",
    "not_cactus = table[0]\n",
    "cactus = table[1]\n",
    "\n",
    "text = \"\\n\\nPercentage of cactus: {:.2f}\\nPercentage of not_cactus: {:.2f}\"\n",
    "print(text.format(cactus/(cactus+not_cactus)*100, not_cactus/(cactus+not_cactus)*100))"
   ]
  },
  {
   "cell_type": "markdown",
   "metadata": {
    "colab_type": "text",
    "id": "qIykOpsdY8WU"
   },
   "source": [
    "**Preview images containing cactus**"
   ]
  },
  {
   "cell_type": "code",
   "execution_count": 28,
   "metadata": {
    "colab": {
     "base_uri": "https://localhost:8080/",
     "height": 229
    },
    "colab_type": "code",
    "executionInfo": {
     "elapsed": 11912,
     "status": "ok",
     "timestamp": 1597496038955,
     "user": {
      "displayName": "Amrik Singh",
      "photoUrl": "https://lh3.googleusercontent.com/a-/AOh14GgQWaPrZ27P4KMHO66jDciIgIdtBUQ47fLBf6mb=s64",
      "userId": "12741216172458192748"
     },
     "user_tz": -600
    },
    "id": "EooD-qKtXJ36",
    "outputId": "b26928c8-fc5a-4c86-b1b4-837571c233ec"
   },
   "outputs": [
    {
     "data": {
      "text/plain": [
       "<matplotlib.image.AxesImage at 0x7fe0711d2cc0>"
      ]
     },
     "execution_count": 28,
     "metadata": {
      "tags": []
     },
     "output_type": "execute_result"
    },
    {
     "data": {
      "text/plain": [
       "<matplotlib.image.AxesImage at 0x7fe0c79f8e10>"
      ]
     },
     "execution_count": 28,
     "metadata": {
      "tags": []
     },
     "output_type": "execute_result"
    },
    {
     "data": {
      "text/plain": [
       "<matplotlib.image.AxesImage at 0x7fe0711dc208>"
      ]
     },
     "execution_count": 28,
     "metadata": {
      "tags": []
     },
     "output_type": "execute_result"
    },
    {
     "data": {
      "text/plain": [
       "<matplotlib.image.AxesImage at 0x7fe0711dc4a8>"
      ]
     },
     "execution_count": 28,
     "metadata": {
      "tags": []
     },
     "output_type": "execute_result"
    },
    {
     "data": {
      "image/png": "[encoded data removed]",
      "text/plain": [
       "<Figure size 864x216 with 4 Axes>"
      ]
     },
     "metadata": {
      "needs_background": "light",
      "tags": []
     },
     "output_type": "display_data"
    }
   ],
   "source": [
    "fig,ax = plt.subplots(nrows=1,ncols=4, figsize=(12,3))\n",
    "for i,idx in enumerate(labels[labels['has_cactus'] == 1]['id'][0:4]):\n",
    "    img_path = os.path.join(path,'train', idx)\n",
    "    # print(img_path)\n",
    "    ax[i].imshow(img.imread(img_path))"
   ]
  },
  {
   "cell_type": "markdown",
   "metadata": {
    "colab_type": "text",
    "id": "Bo722145ZIBz"
   },
   "source": [
    "**Preview images not containing cactus**"
   ]
  },
  {
   "cell_type": "code",
   "execution_count": 29,
   "metadata": {
    "colab": {
     "base_uri": "https://localhost:8080/",
     "height": 229
    },
    "colab_type": "code",
    "executionInfo": {
     "elapsed": 12856,
     "status": "ok",
     "timestamp": 1597496039911,
     "user": {
      "displayName": "Amrik Singh",
      "photoUrl": "https://lh3.googleusercontent.com/a-/AOh14GgQWaPrZ27P4KMHO66jDciIgIdtBUQ47fLBf6mb=s64",
      "userId": "12741216172458192748"
     },
     "user_tz": -600
    },
    "id": "JPg2lVQnFSTM",
    "outputId": "4ffe29e8-fe45-4ba1-bd99-674346c5294b"
   },
   "outputs": [
    {
     "data": {
      "text/plain": [
       "<matplotlib.image.AxesImage at 0x7fe06f959908>"
      ]
     },
     "execution_count": 29,
     "metadata": {
      "tags": []
     },
     "output_type": "execute_result"
    },
    {
     "data": {
      "text/plain": [
       "<matplotlib.image.AxesImage at 0x7fe0711079b0>"
      ]
     },
     "execution_count": 29,
     "metadata": {
      "tags": []
     },
     "output_type": "execute_result"
    },
    {
     "data": {
      "text/plain": [
       "<matplotlib.image.AxesImage at 0x7fe06f959e48>"
      ]
     },
     "execution_count": 29,
     "metadata": {
      "tags": []
     },
     "output_type": "execute_result"
    },
    {
     "data": {
      "text/plain": [
       "<matplotlib.image.AxesImage at 0x7fe06f959d30>"
      ]
     },
     "execution_count": 29,
     "metadata": {
      "tags": []
     },
     "output_type": "execute_result"
    },
    {
     "data": {
      "image/png": "[encoded data removed]",
      "text/plain": [
       "<Figure size 864x216 with 4 Axes>"
      ]
     },
     "metadata": {
      "needs_background": "light",
      "tags": []
     },
     "output_type": "display_data"
    }
   ],
   "source": [
    "fig,ax = plt.subplots(nrows=1,ncols=4, figsize=(12,3))\n",
    "for i,idx in enumerate(labels[labels['has_cactus'] == 0]['id'][0:4]):\n",
    "    img_path = os.path.join(path,'train', idx)\n",
    "    # print(img_path)\n",
    "    ax[i].imshow(img.imread(img_path))"
   ]
  },
  {
   "cell_type": "markdown",
   "metadata": {
    "colab_type": "text",
    "id": "Hf6pG5MNipIJ"
   },
   "source": [
    "## Load images"
   ]
  },
  {
   "cell_type": "code",
   "execution_count": 30,
   "metadata": {
    "colab": {
     "base_uri": "https://localhost:8080/",
     "height": 50
    },
    "colab_type": "code",
    "executionInfo": {
     "elapsed": 21305,
     "status": "ok",
     "timestamp": 1597496048371,
     "user": {
      "displayName": "Amrik Singh",
      "photoUrl": "https://lh3.googleusercontent.com/a-/AOh14GgQWaPrZ27P4KMHO66jDciIgIdtBUQ47fLBf6mb=s64",
      "userId": "12741216172458192748"
     },
     "user_tz": -600
    },
    "id": "RgAfDHvNFS3d",
    "outputId": "7cd88eb7-00d6-46d3-8075-5e5895f1142a"
   },
   "outputs": [
    {
     "name": "stderr",
     "output_type": "stream",
     "text": [
      "100%|██████████| 17500/17500 [00:07<00:00, 2210.14it/s]\n"
     ]
    },
    {
     "data": {
      "text/plain": [
       "(17500, 32, 32)"
      ]
     },
     "execution_count": 30,
     "metadata": {
      "tags": []
     },
     "output_type": "execute_result"
    }
   ],
   "source": [
    "# load training set images\n",
    "data_img = []\n",
    "for img_name in tqdm(labels.id):\n",
    "    img_path = os.path.join(path,'train', img_name)\n",
    "    # img = imread(img_path) \n",
    "    # normalize the pixel values\n",
    "    # img /= 255.0\n",
    "    img = imread(img_path, as_gray=True) # Keep only gray scale\n",
    "    # convert the type of pixel to float 32\n",
    "    img = img.astype('float32')\n",
    "    data_img.append(img)\n",
    "\n",
    "# convert the list to a numpy array\n",
    "data_x = np.array(data_img)\n",
    "# get target variable\n",
    "data_y = labels.has_cactus.values\n",
    "data_x.shape"
   ]
  },
  {
   "cell_type": "code",
   "execution_count": 31,
   "metadata": {
    "colab": {
     "base_uri": "https://localhost:8080/",
     "height": 34
    },
    "colab_type": "code",
    "executionInfo": {
     "elapsed": 21298,
     "status": "ok",
     "timestamp": 1597496048374,
     "user": {
      "displayName": "Amrik Singh",
      "photoUrl": "https://lh3.googleusercontent.com/a-/AOh14GgQWaPrZ27P4KMHO66jDciIgIdtBUQ47fLBf6mb=s64",
      "userId": "12741216172458192748"
     },
     "user_tz": -600
    },
    "id": "u_N3bpaEB905",
    "outputId": "b4359b69-c35b-4fc0-c174-ffb2038767e2"
   },
   "outputs": [
    {
     "data": {
      "text/plain": [
       "0.0"
      ]
     },
     "execution_count": 31,
     "metadata": {
      "tags": []
     },
     "output_type": "execute_result"
    },
    {
     "data": {
      "text/plain": [
       "1.0"
      ]
     },
     "execution_count": 31,
     "metadata": {
      "tags": []
     },
     "output_type": "execute_result"
    }
   ],
   "source": [
    "data_x.min()\n",
    "data_x.max()"
   ]
  },
  {
   "cell_type": "code",
   "execution_count": 32,
   "metadata": {
    "colab": {
     "base_uri": "https://localhost:8080/",
     "height": 34
    },
    "colab_type": "code",
    "executionInfo": {
     "elapsed": 21290,
     "status": "ok",
     "timestamp": 1597496048377,
     "user": {
      "displayName": "Amrik Singh",
      "photoUrl": "https://lh3.googleusercontent.com/a-/AOh14GgQWaPrZ27P4KMHO66jDciIgIdtBUQ47fLBf6mb=s64",
      "userId": "12741216172458192748"
     },
     "user_tz": -600
    },
    "id": "mqrIAIslF6Jx",
    "outputId": "b07bc75a-aac1-4c45-dc22-df47aaf6af2a"
   },
   "outputs": [
    {
     "data": {
      "text/plain": [
       "dtype('float32')"
      ]
     },
     "execution_count": 32,
     "metadata": {
      "tags": []
     },
     "output_type": "execute_result"
    }
   ],
   "source": [
    "data_x.dtype"
   ]
  },
  {
   "cell_type": "markdown",
   "metadata": {
    "colab_type": "text",
    "id": "_wltLACQmnss"
   },
   "source": [
    "# Preprocessing\n",
    "\n",
    "Split the dataset in the training, validation, and test sets."
   ]
  },
  {
   "cell_type": "code",
   "execution_count": 33,
   "metadata": {
    "colab": {
     "base_uri": "https://localhost:8080/",
     "height": 67
    },
    "colab_type": "code",
    "executionInfo": {
     "elapsed": 21282,
     "status": "ok",
     "timestamp": 1597496048379,
     "user": {
      "displayName": "Amrik Singh",
      "photoUrl": "https://lh3.googleusercontent.com/a-/AOh14GgQWaPrZ27P4KMHO66jDciIgIdtBUQ47fLBf6mb=s64",
      "userId": "12741216172458192748"
     },
     "user_tz": -600
    },
    "id": "Q1mjPWo3FS_1",
    "outputId": "42aefae2-7039-49fe-864e-eb91e9487cb2"
   },
   "outputs": [
    {
     "data": {
      "text/plain": [
       "(((11200, 32, 32), (11200,)),\n",
       " ((2800, 32, 32), (2800,)),\n",
       " ((3500, 32, 32), (3500,)))"
      ]
     },
     "execution_count": 33,
     "metadata": {
      "tags": []
     },
     "output_type": "execute_result"
    }
   ],
   "source": [
    "# Split the dataset in the training, validation, and test sets.\n",
    "\n",
    "train_x, test_x, train_y, test_y = train_test_split(data_x, data_y, test_size = 0.2, random_state=220)\n",
    "\n",
    "train_x, val_x, train_y, val_y = train_test_split(train_x, train_y, test_size = 0.2, random_state=220)\n",
    "\n",
    "(train_x.shape, train_y.shape), (val_x.shape, val_y.shape), (test_x.shape, test_y.shape)"
   ]
  },
  {
   "cell_type": "markdown",
   "metadata": {
    "colab_type": "text",
    "id": "SVlBuzIIHEOD"
   },
   "source": [
    "Convert data to torch format"
   ]
  },
  {
   "cell_type": "code",
   "execution_count": 34,
   "metadata": {
    "colab": {
     "base_uri": "https://localhost:8080/",
     "height": 34
    },
    "colab_type": "code",
    "executionInfo": {
     "elapsed": 21274,
     "status": "ok",
     "timestamp": 1597496048381,
     "user": {
      "displayName": "Amrik Singh",
      "photoUrl": "https://lh3.googleusercontent.com/a-/AOh14GgQWaPrZ27P4KMHO66jDciIgIdtBUQ47fLBf6mb=s64",
      "userId": "12741216172458192748"
     },
     "user_tz": -600
    },
    "id": "VG4NA4brFTC7",
    "outputId": "3b0d5c0f-aece-44cb-a001-189e18752a79"
   },
   "outputs": [
    {
     "data": {
      "text/plain": [
       "(torch.Size([11200, 1, 32, 32]), torch.Size([11200]))"
      ]
     },
     "execution_count": 34,
     "metadata": {
      "tags": []
     },
     "output_type": "execute_result"
    }
   ],
   "source": [
    "# convert training images into torch format\n",
    "train_x = train_x.reshape(11200, 1, 32, 32)\n",
    "train_x  = torch.from_numpy(train_x)\n",
    "\n",
    "# convert the target into torch format\n",
    "train_y = train_y.astype(int);\n",
    "train_y = torch.from_numpy(train_y)\n",
    "\n",
    "# shape of training data\n",
    "train_x.shape, train_y.shape"
   ]
  },
  {
   "cell_type": "code",
   "execution_count": 35,
   "metadata": {
    "colab": {
     "base_uri": "https://localhost:8080/",
     "height": 34
    },
    "colab_type": "code",
    "executionInfo": {
     "elapsed": 21266,
     "status": "ok",
     "timestamp": 1597496048383,
     "user": {
      "displayName": "Amrik Singh",
      "photoUrl": "https://lh3.googleusercontent.com/a-/AOh14GgQWaPrZ27P4KMHO66jDciIgIdtBUQ47fLBf6mb=s64",
      "userId": "12741216172458192748"
     },
     "user_tz": -600
    },
    "id": "YxSLSuOJFTGk",
    "outputId": "ac75b5b1-f803-468c-8995-f6aaa1bdfebd"
   },
   "outputs": [
    {
     "data": {
      "text/plain": [
       "(torch.Size([2800, 1, 32, 32]), torch.Size([2800]))"
      ]
     },
     "execution_count": 35,
     "metadata": {
      "tags": []
     },
     "output_type": "execute_result"
    }
   ],
   "source": [
    "# convert validation images into torch format\n",
    "val_x = val_x.reshape(2800, 1, 32, 32)\n",
    "val_x  = torch.from_numpy(val_x)\n",
    "\n",
    "# convert the target into torch format\n",
    "val_y = val_y.astype(int);\n",
    "val_y = torch.from_numpy(val_y)\n",
    "\n",
    "# shape of validation data\n",
    "val_x.shape, val_y.shape"
   ]
  },
  {
   "cell_type": "code",
   "execution_count": 36,
   "metadata": {
    "colab": {
     "base_uri": "https://localhost:8080/",
     "height": 34
    },
    "colab_type": "code",
    "executionInfo": {
     "elapsed": 21251,
     "status": "ok",
     "timestamp": 1597496048385,
     "user": {
      "displayName": "Amrik Singh",
      "photoUrl": "https://lh3.googleusercontent.com/a-/AOh14GgQWaPrZ27P4KMHO66jDciIgIdtBUQ47fLBf6mb=s64",
      "userId": "12741216172458192748"
     },
     "user_tz": -600
    },
    "id": "uRTwT_5EGl1r",
    "outputId": "b2f132c5-cb71-4d79-a7f4-26dee7e40dd8"
   },
   "outputs": [
    {
     "data": {
      "text/plain": [
       "(torch.Size([3500, 1, 32, 32]), torch.Size([3500]))"
      ]
     },
     "execution_count": 36,
     "metadata": {
      "tags": []
     },
     "output_type": "execute_result"
    }
   ],
   "source": [
    "# convert test images into torch format\n",
    "test_x = test_x.reshape(3500, 1, 32, 32)\n",
    "test_x  = torch.from_numpy(test_x)\n",
    "\n",
    "# convert the target into torch format\n",
    "test_y = test_y.astype(int);\n",
    "test_y = torch.from_numpy(test_y)\n",
    "\n",
    "# shape of testing data\n",
    "test_x.shape, test_y.shape"
   ]
  },
  {
   "cell_type": "markdown",
   "metadata": {
    "colab_type": "text",
    "id": "3yZMkqBEJqlk"
   },
   "source": [
    "# Build CNN"
   ]
  },
  {
   "cell_type": "code",
   "execution_count": 37,
   "metadata": {
    "colab": {},
    "colab_type": "code",
    "executionInfo": {
     "elapsed": 21243,
     "status": "ok",
     "timestamp": 1597496048388,
     "user": {
      "displayName": "Amrik Singh",
      "photoUrl": "https://lh3.googleusercontent.com/a-/AOh14GgQWaPrZ27P4KMHO66jDciIgIdtBUQ47fLBf6mb=s64",
      "userId": "12741216172458192748"
     },
     "user_tz": -600
    },
    "id": "r0hs3fdzpOFc"
   },
   "outputs": [],
   "source": [
    "class Net(Module):   \n",
    "    def __init__(self):\n",
    "        super(Net, self).__init__()\n",
    "\n",
    "        self.cnn_layers = Sequential(\n",
    "            # Defining a 2D convolution layer\n",
    "            Conv2d(1, 4, kernel_size=3, stride=1, padding=1),\n",
    "            BatchNorm2d(4),\n",
    "            ReLU(inplace=True),\n",
    "            MaxPool2d(kernel_size=2, stride=2),\n",
    "            # Defining another 2D convolution layer\n",
    "            Conv2d(4, 4, kernel_size=3, stride=1, padding=1),\n",
    "            BatchNorm2d(4),\n",
    "            ReLU(inplace=True),\n",
    "            MaxPool2d(kernel_size=2, stride=2),\n",
    "        )\n",
    "        self.linear_layers = Sequential(\n",
    "            Linear(4 * 8 * 8, 10)\n",
    "        )\n",
    "\n",
    "    # Defining the forward pass    \n",
    "    def forward(self, x):\n",
    "        x = self.cnn_layers(x)\n",
    "        x = x.view(x.size(0), -1)\n",
    "        x = self.linear_layers(x)\n",
    "        return x"
   ]
  },
  {
   "cell_type": "code",
   "execution_count": 38,
   "metadata": {
    "colab": {
     "base_uri": "https://localhost:8080/",
     "height": 269
    },
    "colab_type": "code",
    "executionInfo": {
     "elapsed": 21234,
     "status": "ok",
     "timestamp": 1597496048395,
     "user": {
      "displayName": "Amrik Singh",
      "photoUrl": "https://lh3.googleusercontent.com/a-/AOh14GgQWaPrZ27P4KMHO66jDciIgIdtBUQ47fLBf6mb=s64",
      "userId": "12741216172458192748"
     },
     "user_tz": -600
    },
    "id": "oY5nDtORpODa",
    "outputId": "bbaf7e6d-ee48-4257-e9dd-2b7708021562"
   },
   "outputs": [
    {
     "name": "stdout",
     "output_type": "stream",
     "text": [
      "Net(\n",
      "  (cnn_layers): Sequential(\n",
      "    (0): Conv2d(1, 4, kernel_size=(3, 3), stride=(1, 1), padding=(1, 1))\n",
      "    (1): BatchNorm2d(4, eps=1e-05, momentum=0.1, affine=True, track_running_stats=True)\n",
      "    (2): ReLU(inplace=True)\n",
      "    (3): MaxPool2d(kernel_size=2, stride=2, padding=0, dilation=1, ceil_mode=False)\n",
      "    (4): Conv2d(4, 4, kernel_size=(3, 3), stride=(1, 1), padding=(1, 1))\n",
      "    (5): BatchNorm2d(4, eps=1e-05, momentum=0.1, affine=True, track_running_stats=True)\n",
      "    (6): ReLU(inplace=True)\n",
      "    (7): MaxPool2d(kernel_size=2, stride=2, padding=0, dilation=1, ceil_mode=False)\n",
      "  )\n",
      "  (linear_layers): Sequential(\n",
      "    (0): Linear(in_features=256, out_features=10, bias=True)\n",
      "  )\n",
      ")\n"
     ]
    }
   ],
   "source": [
    "# defining the model\n",
    "model = Net()\n",
    "# defining the optimizer\n",
    "optimizer = Adam(model.parameters(), lr=0.01)\n",
    "# defining the loss function\n",
    "criterion = CrossEntropyLoss()\n",
    "# checking if GPU is available\n",
    "if torch.cuda.is_available():\n",
    "    model = model.cuda()\n",
    "    criterion = criterion.cuda()\n",
    "    \n",
    "print(model)"
   ]
  },
  {
   "cell_type": "markdown",
   "metadata": {
    "colab_type": "text",
    "id": "m5TRpoYMJzRW"
   },
   "source": [
    "# Train the model"
   ]
  },
  {
   "cell_type": "code",
   "execution_count": 39,
   "metadata": {
    "colab": {},
    "colab_type": "code",
    "executionInfo": {
     "elapsed": 21219,
     "status": "ok",
     "timestamp": 1597496048398,
     "user": {
      "displayName": "Amrik Singh",
      "photoUrl": "https://lh3.googleusercontent.com/a-/AOh14GgQWaPrZ27P4KMHO66jDciIgIdtBUQ47fLBf6mb=s64",
      "userId": "12741216172458192748"
     },
     "user_tz": -600
    },
    "id": "WMnBToiUpOBC"
   },
   "outputs": [],
   "source": [
    "def train(epoch):\n",
    "    model.train()\n",
    "    tr_loss = 0\n",
    "    # get the training set\n",
    "    x_train, y_train = Variable(train_x), Variable(train_y)\n",
    "    # get the validation set\n",
    "    x_val, y_val = Variable(val_x), Variable(val_y)\n",
    "    # convert the data into GPU format\n",
    "    if torch.cuda.is_available():\n",
    "        x_train = x_train.cuda()\n",
    "        y_train = y_train.cuda()\n",
    "        x_val = x_val.cuda()\n",
    "        y_val = y_val.cuda()\n",
    "\n",
    "    # clear the Gradients of the model parameters\n",
    "    optimizer.zero_grad()\n",
    "    \n",
    "    # prediction for training and validation set\n",
    "    output_train = model(x_train)\n",
    "    output_val = model(x_val)\n",
    "\n",
    "    # comput the training and validation loss\n",
    "    loss_train = criterion(output_train, y_train)\n",
    "    loss_val = criterion(output_val, y_val)\n",
    "    train_losses.append(loss_train)\n",
    "    val_losses.append(loss_val)\n",
    "\n",
    "    # comput the updated weights of all the model parameters\n",
    "    loss_train.backward()\n",
    "    optimizer.step()\n",
    "    tr_loss = loss_train.item()\n",
    "    if epoch%2 == 0:\n",
    "        # print the validation loss\n",
    "        print('Epoch : ',epoch+1, '\\t', 'validation loss :', loss_val)"
   ]
  },
  {
   "cell_type": "code",
   "execution_count": 40,
   "metadata": {
    "colab": {
     "base_uri": "https://localhost:8080/",
     "height": 319
    },
    "colab_type": "code",
    "executionInfo": {
     "elapsed": 149984,
     "status": "ok",
     "timestamp": 1597496177178,
     "user": {
      "displayName": "Amrik Singh",
      "photoUrl": "https://lh3.googleusercontent.com/a-/AOh14GgQWaPrZ27P4KMHO66jDciIgIdtBUQ47fLBf6mb=s64",
      "userId": "12741216172458192748"
     },
     "user_tz": -600
    },
    "id": "5IycuZODpN-U",
    "outputId": "a31d3c6a-f15f-4268-bed2-c217e3380e46"
   },
   "outputs": [
    {
     "name": "stdout",
     "output_type": "stream",
     "text": [
      "Epoch :  1 \t validation loss : tensor(1.5880, grad_fn=<NllLossBackward>)\n",
      "Epoch :  3 \t validation loss : tensor(0.4108, grad_fn=<NllLossBackward>)\n",
      "Epoch :  5 \t validation loss : tensor(0.3160, grad_fn=<NllLossBackward>)\n",
      "Epoch :  7 \t validation loss : tensor(0.2799, grad_fn=<NllLossBackward>)\n",
      "Epoch :  9 \t validation loss : tensor(0.2546, grad_fn=<NllLossBackward>)\n",
      "Epoch :  11 \t validation loss : tensor(0.2331, grad_fn=<NllLossBackward>)\n",
      "Epoch :  13 \t validation loss : tensor(0.2129, grad_fn=<NllLossBackward>)\n",
      "Epoch :  15 \t validation loss : tensor(0.1939, grad_fn=<NllLossBackward>)\n",
      "Epoch :  17 \t validation loss : tensor(0.1770, grad_fn=<NllLossBackward>)\n",
      "Epoch :  19 \t validation loss : tensor(0.1666, grad_fn=<NllLossBackward>)\n",
      "Epoch :  21 \t validation loss : tensor(0.1596, grad_fn=<NllLossBackward>)\n",
      "Epoch :  23 \t validation loss : tensor(0.1496, grad_fn=<NllLossBackward>)\n",
      "Epoch :  25 \t validation loss : tensor(0.1404, grad_fn=<NllLossBackward>)\n",
      "Epoch :  27 \t validation loss : tensor(0.1342, grad_fn=<NllLossBackward>)\n",
      "Epoch :  29 \t validation loss : tensor(0.1280, grad_fn=<NllLossBackward>)\n",
      "Epoch :  31 \t validation loss : tensor(0.1240, grad_fn=<NllLossBackward>)\n",
      "Epoch :  33 \t validation loss : tensor(0.1195, grad_fn=<NllLossBackward>)\n",
      "Epoch :  35 \t validation loss : tensor(0.1145, grad_fn=<NllLossBackward>)\n"
     ]
    }
   ],
   "source": [
    "# defining the number of epochs\n",
    "n_epochs = 35\n",
    "# empty list to store training losses\n",
    "train_losses = []\n",
    "# empty list to store validation losses\n",
    "val_losses = []\n",
    "# training the model\n",
    "for epoch in range(n_epochs):\n",
    "    train(epoch)"
   ]
  },
  {
   "cell_type": "code",
   "execution_count": 41,
   "metadata": {
    "colab": {
     "base_uri": "https://localhost:8080/",
     "height": 282
    },
    "colab_type": "code",
    "executionInfo": {
     "elapsed": 149970,
     "status": "ok",
     "timestamp": 1597496177183,
     "user": {
      "displayName": "Amrik Singh",
      "photoUrl": "https://lh3.googleusercontent.com/a-/AOh14GgQWaPrZ27P4KMHO66jDciIgIdtBUQ47fLBf6mb=s64",
      "userId": "12741216172458192748"
     },
     "user_tz": -600
    },
    "id": "vp8NnIbqpnjM",
    "outputId": "68d892de-842a-4911-8db7-a88e5b908e14"
   },
   "outputs": [
    {
     "data": {
      "text/plain": [
       "[<matplotlib.lines.Line2D at 0x7fe07085ff98>]"
      ]
     },
     "execution_count": 41,
     "metadata": {
      "tags": []
     },
     "output_type": "execute_result"
    },
    {
     "data": {
      "text/plain": [
       "[<matplotlib.lines.Line2D at 0x7fe070e394e0>]"
      ]
     },
     "execution_count": 41,
     "metadata": {
      "tags": []
     },
     "output_type": "execute_result"
    },
    {
     "data": {
      "text/plain": [
       "<matplotlib.legend.Legend at 0x7fe0708d70b8>"
      ]
     },
     "execution_count": 41,
     "metadata": {
      "tags": []
     },
     "output_type": "execute_result"
    },
    {
     "data": {
      "image/png": "[encoded data removed]",
      "text/plain": [
       "<Figure size 432x288 with 1 Axes>"
      ]
     },
     "metadata": {
      "needs_background": "light",
      "tags": []
     },
     "output_type": "display_data"
    }
   ],
   "source": [
    "# plot the training and validation loss\n",
    "plt.plot(train_losses, label='Training loss')\n",
    "plt.plot(val_losses, label='Validation loss')\n",
    "plt.legend()\n",
    "plt.show()"
   ]
  },
  {
   "cell_type": "markdown",
   "metadata": {
    "colab_type": "text",
    "id": "3h0lSFKUJ5Pk"
   },
   "source": [
    "# Prediction"
   ]
  },
  {
   "cell_type": "code",
   "execution_count": 42,
   "metadata": {
    "colab": {
     "base_uri": "https://localhost:8080/",
     "height": 34
    },
    "colab_type": "code",
    "executionInfo": {
     "elapsed": 150980,
     "status": "ok",
     "timestamp": 1597496178224,
     "user": {
      "displayName": "Amrik Singh",
      "photoUrl": "https://lh3.googleusercontent.com/a-/AOh14GgQWaPrZ27P4KMHO66jDciIgIdtBUQ47fLBf6mb=s64",
      "userId": "12741216172458192748"
     },
     "user_tz": -600
    },
    "id": "4sZ5M9gruJSK",
    "outputId": "962d9736-e44e-425c-954d-73615b9cb7e6"
   },
   "outputs": [
    {
     "name": "stdout",
     "output_type": "stream",
     "text": [
      "Training accuracy: 95.48\n"
     ]
    }
   ],
   "source": [
    "# prediction for training set\n",
    "with torch.no_grad():\n",
    "    output = model(train_x)\n",
    "    \n",
    "softmax = torch.exp(output).cpu()\n",
    "prob = list(softmax.numpy())\n",
    "predictions = np.argmax(prob, axis=1)\n",
    "# accuracy on training \n",
    "acc_train = accuracy_score(train_y, predictions)*100\n",
    "print(\"Training accuracy: {:.2f}\".format(acc_train))"
   ]
  },
  {
   "cell_type": "code",
   "execution_count": 43,
   "metadata": {
    "colab": {
     "base_uri": "https://localhost:8080/",
     "height": 34
    },
    "colab_type": "code",
    "executionInfo": {
     "elapsed": 150966,
     "status": "ok",
     "timestamp": 1597496178228,
     "user": {
      "displayName": "Amrik Singh",
      "photoUrl": "https://lh3.googleusercontent.com/a-/AOh14GgQWaPrZ27P4KMHO66jDciIgIdtBUQ47fLBf6mb=s64",
      "userId": "12741216172458192748"
     },
     "user_tz": -600
    },
    "id": "ow95-4sbuJhz",
    "outputId": "ad8642ea-b7b9-4cb2-db91-b3574c7bd2fa"
   },
   "outputs": [
    {
     "name": "stdout",
     "output_type": "stream",
     "text": [
      "Training accuracy: 95.89\n"
     ]
    }
   ],
   "source": [
    "# prediction for validation set\n",
    "with torch.no_grad():\n",
    "    output = model(val_x)\n",
    "\n",
    "softmax = torch.exp(output).cpu()\n",
    "prob = list(softmax.numpy())\n",
    "predictions = np.argmax(prob, axis=1)\n",
    "# accuracy on validation \n",
    "acc_val = accuracy_score(val_y, predictions)*100\n",
    "print(\"Training accuracy: {:.2f}\".format(acc_val))"
   ]
  },
  {
   "cell_type": "code",
   "execution_count": 44,
   "metadata": {
    "colab": {
     "base_uri": "https://localhost:8080/",
     "height": 34
    },
    "colab_type": "code",
    "executionInfo": {
     "elapsed": 151713,
     "status": "ok",
     "timestamp": 1597496178985,
     "user": {
      "displayName": "Amrik Singh",
      "photoUrl": "https://lh3.googleusercontent.com/a-/AOh14GgQWaPrZ27P4KMHO66jDciIgIdtBUQ47fLBf6mb=s64",
      "userId": "12741216172458192748"
     },
     "user_tz": -600
    },
    "id": "VW250kiCuJmE",
    "outputId": "860f94b6-6c67-421c-9346-83d484685ef3"
   },
   "outputs": [
    {
     "name": "stdout",
     "output_type": "stream",
     "text": [
      "Training accuracy: 95.74\n"
     ]
    }
   ],
   "source": [
    "# prediction for test set\n",
    "with torch.no_grad():\n",
    "    output = model(test_x)\n",
    "\n",
    "softmax = torch.exp(output).cpu()\n",
    "prob = list(softmax.numpy())\n",
    "predictions = np.argmax(prob, axis=1)\n",
    "# accuracy on test \n",
    "acc_test = accuracy_score(test_y, predictions)*100\n",
    "print(\"Training accuracy: {:.2f}\".format(acc_test))"
   ]
  },
  {
   "cell_type": "markdown",
   "metadata": {
    "colab_type": "text",
    "id": "45ZycHRgDxg6"
   },
   "source": [
    "# References\n",
    "1. https://www.kaggle.com/c/aerial-cactus-identification/data\n",
    "2. https://www.pluralsight.com/guides/image-classification-with-pytorch\n",
    "3. https://www.analyticsvidhya.com/blog/2019/10/building-image-classification-models-cnn-pytorch/\n"
   ]
  }
 ],
 "metadata": {
  "colab": {
   "authorship_tag": "ABX9TyPxgQGqeXcHZjm+Q3wV+VNq",
   "collapsed_sections": [],
   "name": "CNN with PyTorch.ipynb",
   "provenance": [],
   "toc_visible": true
  },
  "kernelspec": {
   "display_name": "Python 3",
   "language": "python",
   "name": "python3"
  },
  "language_info": {
   "codemirror_mode": {
    "name": "ipython",
    "version": 3
   },
   "file_extension": ".py",
   "mimetype": "text/x-python",
   "name": "python",
   "nbconvert_exporter": "python",
   "pygments_lexer": "ipython3",
   "version": "3.7.6"
  }
 },
 "nbformat": 4,
 "nbformat_minor": 1
}
