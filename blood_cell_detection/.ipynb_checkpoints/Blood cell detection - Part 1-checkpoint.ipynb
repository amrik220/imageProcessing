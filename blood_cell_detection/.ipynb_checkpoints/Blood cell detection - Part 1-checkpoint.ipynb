{
 "cells": [
  {
   "cell_type": "markdown",
   "metadata": {},
   "source": [
    "## 1. Data Exploration"
   ]
  },
  {
   "cell_type": "code",
   "execution_count": 1,
   "metadata": {},
   "outputs": [],
   "source": [
    "%matplotlib inline\n",
    "\n",
    "import numpy as np\n",
    "import pandas as pd\n",
    "\n",
    "import matplotlib.pyplot as plt\n",
    "import matplotlib.patches as patches"
   ]
  },
  {
   "cell_type": "code",
   "execution_count": 2,
   "metadata": {},
   "outputs": [],
   "source": [
    "# To stop potential randomness\n",
    "seed = 42\n",
    "rng = np.random.RandomState(seed)"
   ]
  },
  {
   "cell_type": "code",
   "execution_count": 3,
   "metadata": {},
   "outputs": [],
   "source": [
    "data = pd.read_csv('../datasets/blood_cell_detection/blood_cell_detection.csv')"
   ]
  },
  {
   "cell_type": "code",
   "execution_count": 4,
   "metadata": {},
   "outputs": [
    {
     "data": {
      "text/html": [
       "<div>\n",
       "<style scoped>\n",
       "    .dataframe tbody tr th:only-of-type {\n",
       "        vertical-align: middle;\n",
       "    }\n",
       "\n",
       "    .dataframe tbody tr th {\n",
       "        vertical-align: top;\n",
       "    }\n",
       "\n",
       "    .dataframe thead th {\n",
       "        text-align: right;\n",
       "    }\n",
       "</style>\n",
       "<table border=\"1\" class=\"dataframe\">\n",
       "  <thead>\n",
       "    <tr style=\"text-align: right;\">\n",
       "      <th></th>\n",
       "      <th>filename</th>\n",
       "      <th>cell_type</th>\n",
       "      <th>xmin</th>\n",
       "      <th>xmax</th>\n",
       "      <th>ymin</th>\n",
       "      <th>ymax</th>\n",
       "    </tr>\n",
       "  </thead>\n",
       "  <tbody>\n",
       "    <tr>\n",
       "      <th>0</th>\n",
       "      <td>0.jpg</td>\n",
       "      <td>RBC</td>\n",
       "      <td>5</td>\n",
       "      <td>90</td>\n",
       "      <td>249</td>\n",
       "      <td>354</td>\n",
       "    </tr>\n",
       "    <tr>\n",
       "      <th>1</th>\n",
       "      <td>0.jpg</td>\n",
       "      <td>RBC</td>\n",
       "      <td>210</td>\n",
       "      <td>323</td>\n",
       "      <td>8</td>\n",
       "      <td>118</td>\n",
       "    </tr>\n",
       "    <tr>\n",
       "      <th>2</th>\n",
       "      <td>0.jpg</td>\n",
       "      <td>RBC</td>\n",
       "      <td>158</td>\n",
       "      <td>256</td>\n",
       "      <td>283</td>\n",
       "      <td>394</td>\n",
       "    </tr>\n",
       "    <tr>\n",
       "      <th>3</th>\n",
       "      <td>0.jpg</td>\n",
       "      <td>RBC</td>\n",
       "      <td>83</td>\n",
       "      <td>166</td>\n",
       "      <td>399</td>\n",
       "      <td>480</td>\n",
       "    </tr>\n",
       "    <tr>\n",
       "      <th>4</th>\n",
       "      <td>0.jpg</td>\n",
       "      <td>RBC</td>\n",
       "      <td>534</td>\n",
       "      <td>635</td>\n",
       "      <td>13</td>\n",
       "      <td>116</td>\n",
       "    </tr>\n",
       "  </tbody>\n",
       "</table>\n",
       "</div>"
      ],
      "text/plain": [
       "  filename cell_type  xmin  xmax  ymin  ymax\n",
       "0    0.jpg       RBC     5    90   249   354\n",
       "1    0.jpg       RBC   210   323     8   118\n",
       "2    0.jpg       RBC   158   256   283   394\n",
       "3    0.jpg       RBC    83   166   399   480\n",
       "4    0.jpg       RBC   534   635    13   116"
      ]
     },
     "execution_count": 4,
     "metadata": {},
     "output_type": "execute_result"
    }
   ],
   "source": [
    "data.head()"
   ]
  },
  {
   "cell_type": "code",
   "execution_count": 5,
   "metadata": {},
   "outputs": [
    {
     "data": {
      "text/plain": [
       "(4888, 6)"
      ]
     },
     "execution_count": 5,
     "metadata": {},
     "output_type": "execute_result"
    }
   ],
   "source": [
    "data.shape"
   ]
  },
  {
   "cell_type": "code",
   "execution_count": 6,
   "metadata": {},
   "outputs": [
    {
     "data": {
      "text/plain": [
       "(364,)"
      ]
     },
     "execution_count": 6,
     "metadata": {},
     "output_type": "execute_result"
    }
   ],
   "source": [
    "data.filename.unique().shape"
   ]
  },
  {
   "cell_type": "code",
   "execution_count": 7,
   "metadata": {},
   "outputs": [
    {
     "data": {
      "text/plain": [
       "array(['RBC', 'WBC', 'Platelets'], dtype=object)"
      ]
     },
     "execution_count": 7,
     "metadata": {},
     "output_type": "execute_result"
    }
   ],
   "source": [
    "data.cell_type.unique()"
   ]
  },
  {
   "cell_type": "code",
   "execution_count": 8,
   "metadata": {},
   "outputs": [
    {
     "data": {
      "text/plain": [
       "RBC          4155\n",
       "WBC           372\n",
       "Platelets     361\n",
       "Name: cell_type, dtype: int64"
      ]
     },
     "execution_count": 8,
     "metadata": {},
     "output_type": "execute_result"
    }
   ],
   "source": [
    "data.cell_type.value_counts()"
   ]
  },
  {
   "cell_type": "code",
   "execution_count": null,
   "metadata": {},
   "outputs": [],
   "source": [
    "# take random index\n",
    "idx = rng.choice(range(data.shape[0])) \n",
    "\n",
    "# get corresponding image\n",
    "image = plt.imread('../datasets/blood_cell_detection/images/' + data.iloc[idx].filename.split('.')[0] + '.jpg')\n",
    "\n",
    "# draw emtpy figure\n",
    "fig = plt.figure()\n",
    "\n",
    "# define axis\n",
    "ax = fig.add_axes([0, 0, 1, 1])\n",
    "\n",
    "# plot image\n",
    "plt.imshow(image)\n",
    "    \n",
    "# for each row\n",
    "for _, row in data[data.filename == data.iloc[idx].filename].iterrows():\n",
    "    # get actual coordinates\n",
    "    xmin = row.xmin\n",
    "    xmax = row.xmax\n",
    "    ymin = row.ymin\n",
    "    ymax = row.ymax\n",
    "    \n",
    "    # find width and height\n",
    "    width = xmax - xmin\n",
    "    height = ymax - ymin\n",
    "    \n",
    "    # set different bounding box colors\n",
    "    if row.cell_type == 'RBC':\n",
    "        edgecolor = 'r'\n",
    "    elif row.cell_type == 'WBC':\n",
    "        edgecolor = 'b'\n",
    "    elif row.cell_type == 'Platelets':\n",
    "        edgecolor = 'g'\n",
    "    \n",
    "    # create rectangular patch\n",
    "    rect = patches.Rectangle((xmin, ymin), width, height, edgecolor=edgecolor, facecolor='none')\n",
    "    \n",
    "    # add patch\n",
    "    ax.add_patch(rect)\n",
    "    \n",
    "# print image shape\n",
    "print('Image is of shape', image.shape)\n",
    "\n",
    "# show figure\n",
    "plt.show()"
   ]
  },
  {
   "cell_type": "markdown",
   "metadata": {},
   "source": [
    "## 2. Data Loading and Preprocessing"
   ]
  },
  {
   "cell_type": "code",
   "execution_count": null,
   "metadata": {},
   "outputs": [],
   "source": [
    "# keep only wbc's\n",
    "data = data.loc[data.cell_type == 'WBC'].copy()"
   ]
  },
  {
   "cell_type": "code",
   "execution_count": null,
   "metadata": {},
   "outputs": [],
   "source": [
    "\n",
    "\n",
    "# drop images having more than one wbc\n",
    "data = data.drop_duplicates(subset=['filename', 'cell_type'], keep=False)"
   ]
  },
  {
   "cell_type": "code",
   "execution_count": null,
   "metadata": {},
   "outputs": [],
   "source": [
    "idx = rng.choice(range(data.shape[0])) \n",
    "\n",
    "image = plt.imread('../datasets/blood_cell_detection/images/' + data.iloc[idx].filename.split('.')[0] + '.jpg')\n",
    "\n",
    "fig = plt.figure()\n",
    "ax = fig.add_axes([0, 0, 1, 1])\n",
    "plt.imshow(image)\n",
    "    \n",
    "for _, row in data[data.filename == data.iloc[idx].filename].iterrows():\n",
    "    xmin = row.xmin\n",
    "    xmax = row.xmax\n",
    "    ymin = row.ymin\n",
    "    ymax = row.ymax\n",
    "    \n",
    "    width = xmax - xmin\n",
    "    height = ymax - ymin\n",
    "    \n",
    "    if row.cell_type == 'RBC':\n",
    "        edgecolor = 'r'\n",
    "    elif row.cell_type == 'WBC':\n",
    "        edgecolor = 'b'\n",
    "    elif row.cell_type == 'Platelets':\n",
    "        edgecolor = 'g'\n",
    "    \n",
    "    rect = patches.Rectangle((xmin, ymin), width, height, edgecolor=edgecolor, facecolor='none')\n",
    "    ax.add_patch(rect)\n",
    "    \n",
    "print('Image is of shape', image.shape)\n",
    "plt.show()"
   ]
  },
  {
   "cell_type": "code",
   "execution_count": null,
   "metadata": {},
   "outputs": [],
   "source": [
    "row = data.iloc[idx]\n",
    "row"
   ]
  },
  {
   "cell_type": "code",
   "execution_count": null,
   "metadata": {},
   "outputs": [],
   "source": [
    "patch_1_xmin, patch_1_ymin, patch_1_xmax, patch_1_ymax = 0, 0, 320, 240\n",
    "patch_2_xmin, patch_2_ymin, patch_2_xmax, patch_2_ymax = 320, 0, 640, 240\n",
    "patch_3_xmin, patch_3_ymin, patch_3_xmax, patch_3_ymax = 0, 240, 320, 480\n",
    "patch_4_xmin, patch_4_ymin, patch_4_xmax, patch_4_ymax = 320, 240, 640, 480\n",
    "patch_5_xmin, patch_5_ymin, patch_5_xmax, patch_5_ymax = 160, 120, 480, 360\n",
    "\n",
    "\n",
    "patch_1 = image[patch_1_ymin:patch_1_ymax, patch_1_xmin:patch_1_xmax, :]\n",
    "patch_2 = image[patch_2_ymin:patch_2_ymax, patch_2_xmin:patch_2_xmax, :]\n",
    "patch_3 = image[patch_3_ymin:patch_3_ymax, patch_3_xmin:patch_3_xmax, :]\n",
    "patch_4 = image[patch_4_ymin:patch_4_ymax, patch_4_xmin:patch_4_xmax, :]\n",
    "patch_5 = image[patch_5_ymin:patch_5_ymax, patch_5_xmin:patch_5_xmax, :]"
   ]
  },
  {
   "cell_type": "code",
   "execution_count": null,
   "metadata": {},
   "outputs": [],
   "source": [
    "patch_1.shape, patch_2.shape, patch_3.shape, patch_4.shape, patch_5.shape"
   ]
  },
  {
   "cell_type": "code",
   "execution_count": null,
   "metadata": {},
   "outputs": [],
   "source": [
    "plt.imshow(image)"
   ]
  },
  {
   "cell_type": "code",
   "execution_count": null,
   "metadata": {},
   "outputs": [],
   "source": [
    "plt.imshow(patch_1) "
   ]
  },
  {
   "cell_type": "code",
   "execution_count": null,
   "metadata": {},
   "outputs": [],
   "source": [
    "plt.imshow(patch_2)"
   ]
  },
  {
   "cell_type": "code",
   "execution_count": null,
   "metadata": {},
   "outputs": [],
   "source": [
    "plt.imshow(patch_3)"
   ]
  },
  {
   "cell_type": "code",
   "execution_count": null,
   "metadata": {},
   "outputs": [],
   "source": [
    "plt.imshow(patch_4)"
   ]
  },
  {
   "cell_type": "code",
   "execution_count": null,
   "metadata": {},
   "outputs": [],
   "source": [
    "plt.imshow(patch_5)"
   ]
  },
  {
   "cell_type": "code",
   "execution_count": null,
   "metadata": {},
   "outputs": [],
   "source": [
    "# for patch_1\n",
    "\n",
    "Irect_xmin, Irect_ymin = max(row.xmin, patch_1_xmin), max(row.ymin, patch_1_ymin)\n",
    "Irect_xmax, Irect_ymax = min(row.xmax, patch_1_xmax), min(row.ymax, patch_1_ymax)\n",
    "\n",
    "if Irect_xmax < Irect_xmin or Irect_ymax < Irect_ymin:\n",
    "    target_1 = 0\n",
    "else:\n",
    "    Iarea = np.abs((Irect_xmax - Irect_xmin) * (Irect_ymax - Irect_ymin))\n",
    "    Parea = (patch_1_xmax - patch_1_xmin)*(patch_1_ymax - patch_1_ymin)\n",
    "    \n",
    "    target_1 = Iarea / Parea \n",
    "    target_1 = int(target_1 > 0.1)"
   ]
  },
  {
   "cell_type": "code",
   "execution_count": null,
   "metadata": {},
   "outputs": [],
   "source": [
    "target_1"
   ]
  },
  {
   "cell_type": "code",
   "execution_count": null,
   "metadata": {},
   "outputs": [],
   "source": [
    "# for patch_2\n",
    "\n",
    "Irect_xmin, Irect_ymin = max(row.xmin, patch_2_xmin), max(row.ymin, patch_2_ymin)\n",
    "Irect_xmax, Irect_ymax = min(row.xmax, patch_2_xmax), min(row.ymax, patch_2_ymax)\n",
    "\n",
    "if Irect_xmax < Irect_xmin or Irect_ymax < Irect_ymin:\n",
    "    target_2 = 0\n",
    "else:\n",
    "    Iarea = np.abs((Irect_xmax - Irect_xmin) * (Irect_ymax - Irect_ymin))\n",
    "    Parea = (patch_2_xmax - patch_2_xmin)*(patch_2_ymax - patch_2_ymin)\n",
    "\n",
    "    target_2 = Iarea / Parea \n",
    "    target_2 = int(target_2 > 0.1)"
   ]
  },
  {
   "cell_type": "code",
   "execution_count": null,
   "metadata": {},
   "outputs": [],
   "source": [
    "# for patch_3\n",
    "\n",
    "Irect_xmin, Irect_ymin = max(row.xmin, patch_3_xmin), max(row.ymin, patch_3_ymin)\n",
    "Irect_xmax, Irect_ymax = min(row.xmax, patch_3_xmax), min(row.ymax, patch_3_ymax)\n",
    "\n",
    "if Irect_xmax < Irect_xmin or Irect_ymax < Irect_ymin:\n",
    "    target_3 = 0\n",
    "else:\n",
    "    Iarea = np.abs((Irect_xmax - Irect_xmin) * (Irect_ymax - Irect_ymin))\n",
    "    Parea = (patch_3_xmax - patch_3_xmin)*(patch_3_ymax - patch_3_ymin)\n",
    "\n",
    "    target_3 = Iarea / Parea \n",
    "    target_3 = int(target_3 > 0.1)"
   ]
  },
  {
   "cell_type": "code",
   "execution_count": null,
   "metadata": {},
   "outputs": [],
   "source": [
    "# for patch_4\n",
    "\n",
    "Irect_xmin, Irect_ymin = max(row.xmin, patch_4_xmin), max(row.ymin, patch_4_ymin)\n",
    "Irect_xmax, Irect_ymax = min(row.xmax, patch_4_xmax), min(row.ymax, patch_4_ymax)\n",
    "\n",
    "\n",
    "if Irect_xmax < Irect_xmin or Irect_ymax < Irect_ymin:\n",
    "    target_4 = 0\n",
    "else:\n",
    "    Iarea = np.abs((Irect_xmax - Irect_xmin) * (Irect_ymax - Irect_ymin))\n",
    "    Parea = (patch_4_xmax - patch_4_xmin)*(patch_4_ymax - patch_4_ymin)\n",
    "\n",
    "    target_4 = Iarea / Parea \n",
    "    target_4 = int(target_4 > 0.1)"
   ]
  },
  {
   "cell_type": "code",
   "execution_count": null,
   "metadata": {},
   "outputs": [],
   "source": [
    "# for patch_5\n",
    "\n",
    "Irect_xmin, Irect_ymin = max(row.xmin, patch_5_xmin), max(row.ymin, patch_5_ymin)\n",
    "Irect_xmax, Irect_ymax = min(row.xmax, patch_5_xmax), min(row.ymax, patch_5_ymax)\n",
    "\n",
    "if Irect_xmax < Irect_xmin or Irect_ymax < Irect_ymin:\n",
    "    target_5 = 0\n",
    "else:\n",
    "    Iarea = np.abs((Irect_xmax - Irect_xmin) * (Irect_ymax - Irect_ymin))\n",
    "    Parea = (patch_5_xmax - patch_5_xmin)*(patch_5_ymax - patch_5_ymin)\n",
    "    \n",
    "    target_5 = Iarea / Parea \n",
    "    target_5 = int(target_5 > 0.1)"
   ]
  },
  {
   "cell_type": "code",
   "execution_count": null,
   "metadata": {},
   "outputs": [],
   "source": [
    "target_1, target_2, target_3, target_4, target_5"
   ]
  },
  {
   "cell_type": "code",
   "execution_count": null,
   "metadata": {},
   "outputs": [],
   "source": [
    "patch_2.shape"
   ]
  },
  {
   "cell_type": "code",
   "execution_count": null,
   "metadata": {
    "scrolled": true
   },
   "outputs": [],
   "source": [
    "patch_2"
   ]
  },
  {
   "cell_type": "code",
   "execution_count": null,
   "metadata": {},
   "outputs": [],
   "source": [
    "from skimage.transform import resize"
   ]
  },
  {
   "cell_type": "code",
   "execution_count": null,
   "metadata": {},
   "outputs": [],
   "source": [
    "patch_2 = resize(patch_2, (224, 224, 3), preserve_range=True)"
   ]
  },
  {
   "cell_type": "code",
   "execution_count": null,
   "metadata": {
    "scrolled": true
   },
   "outputs": [],
   "source": [
    "patch_2"
   ]
  },
  {
   "cell_type": "code",
   "execution_count": null,
   "metadata": {},
   "outputs": [],
   "source": [
    "patch_2.shape"
   ]
  },
  {
   "cell_type": "code",
   "execution_count": null,
   "metadata": {},
   "outputs": [],
   "source": [
    "# create empty lists\n",
    "X = []\n",
    "y = []\n",
    "\n",
    "# set patch co-ordinates\n",
    "patch_1_xmin, patch_1_xmax, patch_1_ymin, patch_1_ymax = 0, 320, 0, 240\n",
    "patch_2_xmin, patch_2_xmax, patch_2_ymin, patch_2_ymax = 320, 640, 0, 240\n",
    "patch_3_xmin, patch_3_xmax, patch_3_ymin, patch_3_ymax = 0, 320, 240, 480\n",
    "patch_4_xmin, patch_4_xmax, patch_4_ymin, patch_4_ymax = 320, 640, 240, 480\n",
    "patch_5_xmin, patch_5_xmax, patch_5_ymin, patch_5_ymax = 160, 480, 120, 360\n",
    "\n",
    "\n",
    "for idx, row in data.iterrows():\n",
    "    # read image\n",
    "    image = plt.imread('../datasets/blood_cell_detection/images/' + row.filename)\n",
    "    \n",
    "    # extract patches\n",
    "    patch_1 = image[patch_1_ymin:patch_1_ymax, patch_1_xmin:patch_1_xmax, :]\n",
    "    patch_2 = image[patch_2_ymin:patch_2_ymax, patch_2_xmin:patch_2_xmax, :]\n",
    "    patch_3 = image[patch_3_ymin:patch_3_ymax, patch_3_xmin:patch_3_xmax, :]\n",
    "    patch_4 = image[patch_4_ymin:patch_4_ymax, patch_4_xmin:patch_4_xmax, :]\n",
    "    patch_5 = image[patch_5_ymin:patch_5_ymax, patch_5_xmin:patch_5_xmax, :]\n",
    "\n",
    "    # set default values\n",
    "    target_1 = target_2 = target_3 = target_4 = target_5 = Iarea = 0\n",
    "\n",
    "    # figure out if the patch contains the object\n",
    "\n",
    "    ## for patch_1\n",
    "    Irect_xmin, Irect_ymin = max(row.xmin, patch_1_xmin), max(row.ymin, patch_1_ymin)\n",
    "    Irect_xmax, Irect_ymax = min(row.xmax, patch_1_xmax), min(row.ymax, patch_1_ymax)\n",
    "\n",
    "    if Irect_xmax < Irect_xmin or Irect_ymax < Irect_ymin:\n",
    "        target_1 = Iarea = 0\n",
    "    else:\n",
    "        Iarea = np.abs((Irect_xmax - Irect_xmin) * (Irect_ymax - Irect_ymin))\n",
    "        Parea = (patch_1_xmax - patch_1_xmin)*(patch_1_ymax - patch_1_ymin)\n",
    "        \n",
    "        target_1 = Iarea / Parea \n",
    "        target_1 = int(target_1 > 0.1)\n",
    "        \n",
    "    ## for patch_2\n",
    "    Irect_xmin, Irect_ymin = max(row.xmin, patch_2_xmin), max(row.ymin, patch_2_ymin)\n",
    "    Irect_xmax, Irect_ymax = min(row.xmax, patch_2_xmax), min(row.ymax, patch_2_ymax)\n",
    "\n",
    "    if Irect_xmax < Irect_xmin or Irect_ymax < Irect_ymin:\n",
    "        target_2 = Iarea = 0\n",
    "    else:\n",
    "        Iarea = np.abs((Irect_xmax - Irect_xmin) * (Irect_ymax - Irect_ymin))\n",
    "        Parea = (patch_2_xmax - patch_2_xmin)*(patch_2_ymax - patch_2_ymin)\n",
    "\n",
    "        target_2 = Iarea / Parea \n",
    "        target_2 = int(target_2 > 0.1)\n",
    "        \n",
    "    ## for patch_3\n",
    "    Irect_xmin, Irect_ymin = max(row.xmin, patch_3_xmin), max(row.ymin, patch_3_ymin)\n",
    "    Irect_xmax, Irect_ymax = min(row.xmax, patch_3_xmax), min(row.ymax, patch_3_ymax)\n",
    "\n",
    "    if Irect_xmax < Irect_xmin or Irect_ymax < Irect_ymin:\n",
    "        target_3 = Iarea = 0\n",
    "    else:\n",
    "        Iarea = np.abs((Irect_xmax - Irect_xmin) * (Irect_ymax - Irect_ymin))\n",
    "        Parea = (patch_3_xmax - patch_3_xmin)*(patch_3_ymax - patch_3_ymin)\n",
    "\n",
    "        target_3 = Iarea / Parea \n",
    "        target_3 = int(target_3 > 0.1)\n",
    "        \n",
    "    ## for patch_4\n",
    "    Irect_xmin, Irect_ymin = max(row.xmin, patch_4_xmin), max(row.ymin, patch_4_ymin)\n",
    "    Irect_xmax, Irect_ymax = min(row.xmax, patch_4_xmax), min(row.ymax, patch_4_ymax)\n",
    "\n",
    "\n",
    "    if Irect_xmax < Irect_xmin or Irect_ymax < Irect_ymin:\n",
    "        target_4 = Iarea = 0\n",
    "    else:\n",
    "        Iarea = np.abs((Irect_xmax - Irect_xmin) * (Irect_ymax - Irect_ymin))\n",
    "        Parea = (patch_4_xmax - patch_4_xmin)*(patch_4_ymax - patch_4_ymin)\n",
    "\n",
    "        target_4 = Iarea / Parea \n",
    "        target_4 = int(target_4 > 0.1)\n",
    "        \n",
    "    ## for patch_5\n",
    "    Irect_xmin, Irect_ymin = max(row.xmin, patch_5_xmin), max(row.ymin, patch_5_ymin)\n",
    "    Irect_xmax, Irect_ymax = min(row.xmax, patch_5_xmax), min(row.ymax, patch_5_ymax)\n",
    "\n",
    "    if Irect_xmax < Irect_xmin or Irect_ymax < Irect_ymin:\n",
    "        target_5 = Iarea = 0\n",
    "    else:\n",
    "        Iarea = np.abs((Irect_xmax - Irect_xmin) * (Irect_ymax - Irect_ymin))\n",
    "        Parea = (patch_5_xmax - patch_5_xmin)*(patch_5_ymax - patch_5_ymin)\n",
    "        \n",
    "        target_5 = Iarea / Parea \n",
    "        target_5 = int(target_5 > 0.1)\n",
    "        \n",
    "    # resize the patches\n",
    "    patch_1 = resize(patch_1, (224, 224, 3), preserve_range=True)\n",
    "    patch_2 = resize(patch_2, (224, 224, 3), preserve_range=True)\n",
    "    patch_3 = resize(patch_3, (224, 224, 3), preserve_range=True)\n",
    "    patch_4 = resize(patch_4, (224, 224, 3), preserve_range=True)\n",
    "    patch_5 = resize(patch_5, (224, 224, 3), preserve_range=True)\n",
    "    \n",
    "    # create final input data\n",
    "    X.extend([patch_1, patch_2, patch_3, patch_4, patch_5])\n",
    "    \n",
    "    # create target data\n",
    "    y.extend([target_1, target_2, target_3, target_4, target_5])\n",
    "    \n",
    "# convert these lists to single numpy array\n",
    "X = np.array(X)\n",
    "y = np.array(y)"
   ]
  },
  {
   "cell_type": "code",
   "execution_count": null,
   "metadata": {},
   "outputs": [],
   "source": [
    "from keras.applications.vgg16 import preprocess_input"
   ]
  },
  {
   "cell_type": "code",
   "execution_count": null,
   "metadata": {},
   "outputs": [],
   "source": [
    "X_preprocessed = preprocess_input(X, mode='tf')"
   ]
  },
  {
   "cell_type": "code",
   "execution_count": null,
   "metadata": {},
   "outputs": [],
   "source": [
    "from sklearn.model_selection import train_test_split"
   ]
  },
  {
   "cell_type": "code",
   "execution_count": null,
   "metadata": {},
   "outputs": [],
   "source": [
    "X_train, X_valid, Y_train, Y_valid=train_test_split(X_preprocessed, y, test_size=0.3, random_state=42)"
   ]
  },
  {
   "cell_type": "markdown",
   "metadata": {},
   "source": [
    "## 3. Model Building"
   ]
  },
  {
   "cell_type": "code",
   "execution_count": null,
   "metadata": {},
   "outputs": [],
   "source": [
    "from keras.applications.vgg16 import VGG16\n",
    "\n",
    "from keras.models import Sequential\n",
    "from keras.layers import Dense, Dropout, InputLayer"
   ]
  },
  {
   "cell_type": "code",
   "execution_count": null,
   "metadata": {},
   "outputs": [],
   "source": [
    "base_model = VGG16(weights='imagenet', include_top=False, input_shape=(224, 224, 3))\n",
    "\n",
    "features_train = base_model.predict(X_train)\n",
    "features_valid = base_model.predict(X_valid)"
   ]
  },
  {
   "cell_type": "code",
   "execution_count": null,
   "metadata": {},
   "outputs": [],
   "source": [
    "max_val = features_train.max()\n",
    "\n",
    "features_train /= max_val\n",
    "features_valid /= max_val"
   ]
  },
  {
   "cell_type": "code",
   "execution_count": null,
   "metadata": {},
   "outputs": [],
   "source": [
    "features_train = features_train.reshape(features_train.shape[0],7*7*512)\n",
    "features_valid = features_valid.reshape(features_valid.shape[0],7*7*512)"
   ]
  },
  {
   "cell_type": "code",
   "execution_count": null,
   "metadata": {},
   "outputs": [],
   "source": [
    "model=Sequential()\n",
    "model.add(InputLayer((7*7*512, )))\n",
    "model.add(Dense(1024, activation='relu'))\n",
    "model.add(Dropout(0.3))\n",
    "\n",
    "model.add(Dense(units=1, activation='sigmoid'))\n",
    "\n",
    "model.compile(loss='binary_crossentropy', optimizer=\"adam\", metrics=['accuracy'])"
   ]
  },
  {
   "cell_type": "code",
   "execution_count": null,
   "metadata": {
    "scrolled": true
   },
   "outputs": [],
   "source": [
    "model.fit(features_train, Y_train, epochs=15, batch_size=512,validation_data=(features_valid,Y_valid))"
   ]
  },
  {
   "cell_type": "code",
   "execution_count": null,
   "metadata": {},
   "outputs": [],
   "source": [
    "# get predictions\n",
    "predictions = model.predict_classes(features_valid).ravel()\n",
    "prediction_probabilities = model.predict(features_valid).ravel()\n",
    "\n",
    "# extract validation images\n",
    "_, valid_x, _, _ = train_test_split(X,y,test_size=0.3, random_state=42)\n",
    "\n",
    "# get a random index\n",
    "index = rng.choice(range(len(valid_x)))\n",
    "\n",
    "# get the corresponding image\n",
    "img = valid_x[index]\n",
    "\n",
    "# get the corresponding probability\n",
    "prob = (prediction_probabilities * 100).astype(int)[index]\n",
    "\n",
    "# print this probability\n",
    "print(prob , '% sure that it is WBC')\n",
    "\n",
    "# show image\n",
    "plt.imshow(img)"
   ]
  },
  {
   "cell_type": "code",
   "execution_count": null,
   "metadata": {},
   "outputs": [],
   "source": [
    "# extract index of patch\n",
    "for i in range(X.shape[0]):\n",
    "    if np.array_equal(X[i, :], img):\n",
    "        break\n",
    "        \n",
    "# get the patch number\n",
    "patch_num = (i % 5) + 1\n",
    "\n",
    "# read the corresponding image\n",
    "image = plt.imread('../datasets/blood_cell_detection/images/' + data.iloc[int(i / 5)].filename)\n",
    "\n",
    "# plot an empty figure and define axis\n",
    "fig = plt.figure()\n",
    "ax = fig.add_axes([0, 0, 1, 1])\n",
    "\n",
    "# plot image\n",
    "ax.imshow(image)\n",
    "\n",
    "# get minimum and maximum co-ordinates\n",
    "xmin = eval('patch_' + str(patch_num) + '_xmin')\n",
    "xmax = eval('patch_' + str(patch_num) + '_xmax')\n",
    "ymin = eval('patch_' + str(patch_num) + '_ymin')\n",
    "ymax = eval('patch_' + str(patch_num) + '_ymax')\n",
    "\n",
    "# get width and height\n",
    "width = xmax - xmin\n",
    "height = ymax - ymin\n",
    "\n",
    "# define a rectangular patch\n",
    "rect = patches.Rectangle((xmin, ymin), width, height, edgecolor='b', facecolor='none')\n",
    "\n",
    "# annotate the patch\n",
    "ax.annotate(xy=(xmin, ymin), s='prob: ' + str(prob) + \"%\")\n",
    "\n",
    "# add the rectangular patch\n",
    "ax.add_patch(rect)\n",
    "    \n",
    "# show figure\n",
    "plt.show()"
   ]
  },
  {
   "cell_type": "code",
   "execution_count": null,
   "metadata": {},
   "outputs": [],
   "source": []
  }
 ],
 "metadata": {
  "kernelspec": {
   "display_name": "Python 3",
   "language": "python",
   "name": "python3"
  },
  "language_info": {
   "codemirror_mode": {
    "name": "ipython",
    "version": 3
   },
   "file_extension": ".py",
   "mimetype": "text/x-python",
   "name": "python",
   "nbconvert_exporter": "python",
   "pygments_lexer": "ipython3",
   "version": "3.7.6"
  }
 },
 "nbformat": 4,
 "nbformat_minor": 2
}
