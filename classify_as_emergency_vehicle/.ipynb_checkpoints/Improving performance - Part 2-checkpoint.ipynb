{
 "cells": [
  {
   "cell_type": "markdown",
   "metadata": {},
   "source": [
    "## Reading dataset and Images"
   ]
  },
  {
   "cell_type": "code",
   "execution_count": 1,
   "metadata": {},
   "outputs": [
    {
     "name": "stderr",
     "output_type": "stream",
     "text": [
      "Using TensorFlow backend.\n",
      "C:\\Users\\amrik\\anaconda3\\lib\\site-packages\\tensorflow\\python\\framework\\dtypes.py:516: FutureWarning: Passing (type, 1) or '1type' as a synonym of type is deprecated; in a future version of numpy, it will be understood as (type, (1,)) / '(1,)type'.\n",
      "  _np_qint8 = np.dtype([(\"qint8\", np.int8, 1)])\n",
      "C:\\Users\\amrik\\anaconda3\\lib\\site-packages\\tensorflow\\python\\framework\\dtypes.py:517: FutureWarning: Passing (type, 1) or '1type' as a synonym of type is deprecated; in a future version of numpy, it will be understood as (type, (1,)) / '(1,)type'.\n",
      "  _np_quint8 = np.dtype([(\"quint8\", np.uint8, 1)])\n",
      "C:\\Users\\amrik\\anaconda3\\lib\\site-packages\\tensorflow\\python\\framework\\dtypes.py:518: FutureWarning: Passing (type, 1) or '1type' as a synonym of type is deprecated; in a future version of numpy, it will be understood as (type, (1,)) / '(1,)type'.\n",
      "  _np_qint16 = np.dtype([(\"qint16\", np.int16, 1)])\n",
      "C:\\Users\\amrik\\anaconda3\\lib\\site-packages\\tensorflow\\python\\framework\\dtypes.py:519: FutureWarning: Passing (type, 1) or '1type' as a synonym of type is deprecated; in a future version of numpy, it will be understood as (type, (1,)) / '(1,)type'.\n",
      "  _np_quint16 = np.dtype([(\"quint16\", np.uint16, 1)])\n",
      "C:\\Users\\amrik\\anaconda3\\lib\\site-packages\\tensorflow\\python\\framework\\dtypes.py:520: FutureWarning: Passing (type, 1) or '1type' as a synonym of type is deprecated; in a future version of numpy, it will be understood as (type, (1,)) / '(1,)type'.\n",
      "  _np_qint32 = np.dtype([(\"qint32\", np.int32, 1)])\n",
      "C:\\Users\\amrik\\anaconda3\\lib\\site-packages\\tensorflow\\python\\framework\\dtypes.py:525: FutureWarning: Passing (type, 1) or '1type' as a synonym of type is deprecated; in a future version of numpy, it will be understood as (type, (1,)) / '(1,)type'.\n",
      "  np_resource = np.dtype([(\"resource\", np.ubyte, 1)])\n",
      "C:\\Users\\amrik\\anaconda3\\lib\\site-packages\\tensorboard\\compat\\tensorflow_stub\\dtypes.py:541: FutureWarning: Passing (type, 1) or '1type' as a synonym of type is deprecated; in a future version of numpy, it will be understood as (type, (1,)) / '(1,)type'.\n",
      "  _np_qint8 = np.dtype([(\"qint8\", np.int8, 1)])\n",
      "C:\\Users\\amrik\\anaconda3\\lib\\site-packages\\tensorboard\\compat\\tensorflow_stub\\dtypes.py:542: FutureWarning: Passing (type, 1) or '1type' as a synonym of type is deprecated; in a future version of numpy, it will be understood as (type, (1,)) / '(1,)type'.\n",
      "  _np_quint8 = np.dtype([(\"quint8\", np.uint8, 1)])\n",
      "C:\\Users\\amrik\\anaconda3\\lib\\site-packages\\tensorboard\\compat\\tensorflow_stub\\dtypes.py:543: FutureWarning: Passing (type, 1) or '1type' as a synonym of type is deprecated; in a future version of numpy, it will be understood as (type, (1,)) / '(1,)type'.\n",
      "  _np_qint16 = np.dtype([(\"qint16\", np.int16, 1)])\n",
      "C:\\Users\\amrik\\anaconda3\\lib\\site-packages\\tensorboard\\compat\\tensorflow_stub\\dtypes.py:544: FutureWarning: Passing (type, 1) or '1type' as a synonym of type is deprecated; in a future version of numpy, it will be understood as (type, (1,)) / '(1,)type'.\n",
      "  _np_quint16 = np.dtype([(\"quint16\", np.uint16, 1)])\n",
      "C:\\Users\\amrik\\anaconda3\\lib\\site-packages\\tensorboard\\compat\\tensorflow_stub\\dtypes.py:545: FutureWarning: Passing (type, 1) or '1type' as a synonym of type is deprecated; in a future version of numpy, it will be understood as (type, (1,)) / '(1,)type'.\n",
      "  _np_qint32 = np.dtype([(\"qint32\", np.int32, 1)])\n",
      "C:\\Users\\amrik\\anaconda3\\lib\\site-packages\\tensorboard\\compat\\tensorflow_stub\\dtypes.py:550: FutureWarning: Passing (type, 1) or '1type' as a synonym of type is deprecated; in a future version of numpy, it will be understood as (type, (1,)) / '(1,)type'.\n",
      "  np_resource = np.dtype([(\"resource\", np.ubyte, 1)])\n"
     ]
    }
   ],
   "source": [
    "# Importing the required libraries\n",
    "\n",
    "import numpy as np\n",
    "import pandas as pd\n",
    "import matplotlib.pyplot as plt\n",
    "%matplotlib inline\n",
    "\n",
    "from keras.preprocessing.image import load_img, img_to_array, array_to_img"
   ]
  },
  {
   "cell_type": "code",
   "execution_count": 2,
   "metadata": {},
   "outputs": [
    {
     "data": {
      "text/plain": [
       "(2352, 2)"
      ]
     },
     "execution_count": 2,
     "metadata": {},
     "output_type": "execute_result"
    }
   ],
   "source": [
    "# load data labels from the csv file\n",
    "data = pd.read_csv('./emergency_class_labels.csv')\n",
    "data.head()\n",
    "data.shape"
   ]
  },
  {
   "cell_type": "code",
   "execution_count": 3,
   "metadata": {},
   "outputs": [
    {
     "data": {
      "text/plain": [
       "72.81410727406319"
      ]
     },
     "execution_count": 3,
     "metadata": {},
     "output_type": "execute_result"
    }
   ],
   "source": [
    "# check class balance\n",
    "data.emergency_or_not.value_counts()\n",
    "data.emergency_or_not.value_counts()[1]/data.emergency_or_not.value_counts()[0]*100"
   ]
  },
  {
   "cell_type": "code",
   "execution_count": 4,
   "metadata": {},
   "outputs": [],
   "source": [
    "# reading all the images in numpy array\n",
    "\n",
    "images = []\n",
    "for img_loc in data.image_names:\n",
    "    img = load_img('./images/' + img_loc)\n",
    "    img = img_to_array(img)\n",
    "    images.append(img)\n",
    "    \n",
    "images=np.array(images)"
   ]
  },
  {
   "cell_type": "code",
   "execution_count": 6,
   "metadata": {},
   "outputs": [
    {
     "data": {
      "text/plain": [
       "(2352, 224, 224, 3)"
      ]
     },
     "execution_count": 6,
     "metadata": {},
     "output_type": "execute_result"
    }
   ],
   "source": [
    "images.shape"
   ]
  },
  {
   "cell_type": "markdown",
   "metadata": {},
   "source": [
    "## Pre-processing images and creating validation dataset"
   ]
  },
  {
   "cell_type": "code",
   "execution_count": 7,
   "metadata": {},
   "outputs": [],
   "source": [
    "# pre-processing\n",
    "\n",
    "images = images/images.max()"
   ]
  },
  {
   "cell_type": "code",
   "execution_count": 8,
   "metadata": {},
   "outputs": [],
   "source": [
    "from sklearn.model_selection import train_test_split"
   ]
  },
  {
   "cell_type": "code",
   "execution_count": 9,
   "metadata": {},
   "outputs": [],
   "source": [
    "# creating validation dataset\n",
    "\n",
    "x_train, x_valid, y_train, y_valid = train_test_split(images, data['emergency_or_not'], test_size = 0.3, random_state = 42)"
   ]
  },
  {
   "cell_type": "markdown",
   "metadata": {},
   "source": [
    "## Performing Image Augmentation"
   ]
  },
  {
   "cell_type": "code",
   "execution_count": 10,
   "metadata": {},
   "outputs": [],
   "source": [
    "from keras.preprocessing.image import ImageDataGenerator"
   ]
  },
  {
   "cell_type": "code",
   "execution_count": 11,
   "metadata": {},
   "outputs": [],
   "source": [
    "datagen = ImageDataGenerator(\n",
    "    width_shift_range = 0.2,\n",
    "    horizontal_flip = True\n",
    ")"
   ]
  },
  {
   "cell_type": "markdown",
   "metadata": {},
   "source": [
    "## Creating Model"
   ]
  },
  {
   "cell_type": "code",
   "execution_count": 12,
   "metadata": {},
   "outputs": [],
   "source": [
    "from keras.models import Sequential"
   ]
  },
  {
   "cell_type": "code",
   "execution_count": 13,
   "metadata": {},
   "outputs": [],
   "source": [
    "from keras.layers import InputLayer, Dense, Convolution2D, MaxPooling2D"
   ]
  },
  {
   "cell_type": "code",
   "execution_count": 14,
   "metadata": {},
   "outputs": [],
   "source": [
    "from keras.layers import BatchNormalization, GlobalAveragePooling2D, Dropout"
   ]
  },
  {
   "cell_type": "code",
   "execution_count": 15,
   "metadata": {},
   "outputs": [],
   "source": [
    "model = Sequential([\n",
    " InputLayer(input_shape=(224, 224, 3)),\n",
    "\n",
    " Convolution2D(32, (5, 5), activation='relu', padding='same'),\n",
    " MaxPooling2D(pool_size=2),\n",
    " BatchNormalization(),\n",
    "\n",
    " Convolution2D(64, (5, 5), activation='relu', padding='same'),\n",
    " Convolution2D(64, (5, 5), activation='relu', padding='same'),\n",
    " MaxPooling2D(pool_size=2),\n",
    " BatchNormalization(),\n",
    "\n",
    " Convolution2D(128, (5, 5), activation='relu', padding='same'),\n",
    " Convolution2D(128, (5, 5), activation='relu', padding='same'),\n",
    " MaxPooling2D(pool_size=2),\n",
    " BatchNormalization(),\n",
    "    \n",
    " Convolution2D(256, (5, 5), activation='relu', padding='same'),\n",
    " Convolution2D(256, (5, 5), activation='relu', padding='same'),\n",
    " MaxPooling2D(pool_size=2),\n",
    " BatchNormalization(),\n",
    "    \n",
    " Convolution2D(512, (5, 5), activation='relu', padding='same'),\n",
    " Convolution2D(512, (5, 5), activation='relu', padding='same'),\n",
    "\n",
    " GlobalAveragePooling2D(),\n",
    " BatchNormalization(),\n",
    "\n",
    " Dense(units=512, activation='sigmoid'),\n",
    " BatchNormalization(),\n",
    " Dropout(0.5),\n",
    "    \n",
    " Dense(units=256, activation='sigmoid'),\n",
    " BatchNormalization(),\n",
    " Dropout(0.5),\n",
    "    \n",
    " Dense(units=1, activation='sigmoid'),\n",
    "])"
   ]
  },
  {
   "cell_type": "code",
   "execution_count": 16,
   "metadata": {},
   "outputs": [
    {
     "name": "stdout",
     "output_type": "stream",
     "text": [
      "_________________________________________________________________\n",
      "Layer (type)                 Output Shape              Param #   \n",
      "=================================================================\n",
      "conv2d_1 (Conv2D)            (None, 224, 224, 32)      2432      \n",
      "_________________________________________________________________\n",
      "max_pooling2d_1 (MaxPooling2 (None, 112, 112, 32)      0         \n",
      "_________________________________________________________________\n",
      "batch_normalization_1 (Batch (None, 112, 112, 32)      128       \n",
      "_________________________________________________________________\n",
      "conv2d_2 (Conv2D)            (None, 112, 112, 64)      51264     \n",
      "_________________________________________________________________\n",
      "conv2d_3 (Conv2D)            (None, 112, 112, 64)      102464    \n",
      "_________________________________________________________________\n",
      "max_pooling2d_2 (MaxPooling2 (None, 56, 56, 64)        0         \n",
      "_________________________________________________________________\n",
      "batch_normalization_2 (Batch (None, 56, 56, 64)        256       \n",
      "_________________________________________________________________\n",
      "conv2d_4 (Conv2D)            (None, 56, 56, 128)       204928    \n",
      "_________________________________________________________________\n",
      "conv2d_5 (Conv2D)            (None, 56, 56, 128)       409728    \n",
      "_________________________________________________________________\n",
      "max_pooling2d_3 (MaxPooling2 (None, 28, 28, 128)       0         \n",
      "_________________________________________________________________\n",
      "batch_normalization_3 (Batch (None, 28, 28, 128)       512       \n",
      "_________________________________________________________________\n",
      "conv2d_6 (Conv2D)            (None, 28, 28, 256)       819456    \n",
      "_________________________________________________________________\n",
      "conv2d_7 (Conv2D)            (None, 28, 28, 256)       1638656   \n",
      "_________________________________________________________________\n",
      "max_pooling2d_4 (MaxPooling2 (None, 14, 14, 256)       0         \n",
      "_________________________________________________________________\n",
      "batch_normalization_4 (Batch (None, 14, 14, 256)       1024      \n",
      "_________________________________________________________________\n",
      "conv2d_8 (Conv2D)            (None, 14, 14, 512)       3277312   \n",
      "_________________________________________________________________\n",
      "conv2d_9 (Conv2D)            (None, 14, 14, 512)       6554112   \n",
      "_________________________________________________________________\n",
      "global_average_pooling2d_1 ( (None, 512)               0         \n",
      "_________________________________________________________________\n",
      "batch_normalization_5 (Batch (None, 512)               2048      \n",
      "_________________________________________________________________\n",
      "dense_1 (Dense)              (None, 512)               262656    \n",
      "_________________________________________________________________\n",
      "batch_normalization_6 (Batch (None, 512)               2048      \n",
      "_________________________________________________________________\n",
      "dropout_1 (Dropout)          (None, 512)               0         \n",
      "_________________________________________________________________\n",
      "dense_2 (Dense)              (None, 256)               131328    \n",
      "_________________________________________________________________\n",
      "batch_normalization_7 (Batch (None, 256)               1024      \n",
      "_________________________________________________________________\n",
      "dropout_2 (Dropout)          (None, 256)               0         \n",
      "_________________________________________________________________\n",
      "dense_3 (Dense)              (None, 1)                 257       \n",
      "=================================================================\n",
      "Total params: 13,461,633\n",
      "Trainable params: 13,458,113\n",
      "Non-trainable params: 3,520\n",
      "_________________________________________________________________\n"
     ]
    }
   ],
   "source": [
    "model.summary()"
   ]
  },
  {
   "cell_type": "code",
   "execution_count": 17,
   "metadata": {},
   "outputs": [],
   "source": [
    "from keras.optimizers import SGD"
   ]
  },
  {
   "cell_type": "code",
   "execution_count": 18,
   "metadata": {},
   "outputs": [],
   "source": [
    "sgd = SGD(nesterov=True)"
   ]
  },
  {
   "cell_type": "code",
   "execution_count": 19,
   "metadata": {},
   "outputs": [],
   "source": [
    "import keras.backend as K\n",
    "import tensorflow as tf"
   ]
  },
  {
   "cell_type": "code",
   "execution_count": 20,
   "metadata": {},
   "outputs": [],
   "source": [
    "def focal_loss(gamma=2., alpha=.25):\n",
    "    def focal_loss_fixed(y_true, y_pred):\n",
    "        eps = 1e-12\n",
    "        y_pred=K.clip(y_pred,eps,1.-eps)\n",
    "        pt_1 = tf.where(tf.equal(y_true, 1), y_pred, tf.ones_like(y_pred))\n",
    "        pt_0 = tf.where(tf.equal(y_true, 0), y_pred, tf.zeros_like(y_pred))\n",
    "        return -K.sum(alpha * K.pow(1. - pt_1, gamma) * K.log(pt_1))-K.sum((1-alpha) * K.pow( pt_0, gamma) * K.log(1. - pt_0))\n",
    "    return focal_loss_fixed"
   ]
  },
  {
   "cell_type": "code",
   "execution_count": 21,
   "metadata": {},
   "outputs": [],
   "source": [
    "focal_loss = focal_loss()"
   ]
  },
  {
   "cell_type": "code",
   "execution_count": 22,
   "metadata": {},
   "outputs": [],
   "source": [
    "model.compile(loss='binary_crossentropy', optimizer=sgd, metrics=['accuracy'])"
   ]
  },
  {
   "cell_type": "code",
   "execution_count": 23,
   "metadata": {},
   "outputs": [],
   "source": [
    "from keras.callbacks import ModelCheckpoint, EarlyStopping"
   ]
  },
  {
   "cell_type": "code",
   "execution_count": 24,
   "metadata": {},
   "outputs": [],
   "source": [
    "final_weights_path = 'best_cnn_model.h5'\n",
    "\n",
    "callbacks_list = [\n",
    "    ModelCheckpoint(final_weights_path, monitor='val_loss', verbose=1, save_best_only=True),\n",
    "    EarlyStopping(monitor='val_loss', patience=20, verbose=1)\n",
    "]"
   ]
  },
  {
   "cell_type": "code",
   "execution_count": 25,
   "metadata": {},
   "outputs": [
    {
     "name": "stdout",
     "output_type": "stream",
     "text": [
      "Epoch 1/200\n",
      "52/52 [==============================] - 13s 258ms/step - loss: 0.8016 - acc: 0.6553 - val_loss: 0.6299 - val_acc: 0.6558\n",
      "\n",
      "Epoch 00001: val_loss improved from inf to 0.62987, saving model to best_cnn_model.h5\n",
      "Epoch 2/200\n",
      "52/52 [==============================] - 9s 164ms/step - loss: 0.6116 - acc: 0.7121 - val_loss: 0.6465 - val_acc: 0.7181\n",
      "\n",
      "Epoch 00002: val_loss did not improve from 0.62987\n",
      "Epoch 3/200\n",
      "52/52 [==============================] - 9s 165ms/step - loss: 0.5335 - acc: 0.7565 - val_loss: 0.8363 - val_acc: 0.7011\n",
      "\n",
      "Epoch 00003: val_loss did not improve from 0.62987\n",
      "Epoch 4/200\n",
      "52/52 [==============================] - 8s 162ms/step - loss: 0.4875 - acc: 0.7791 - val_loss: 0.6361 - val_acc: 0.7422\n",
      "\n",
      "Epoch 00004: val_loss did not improve from 0.62987\n",
      "Epoch 5/200\n",
      "52/52 [==============================] - 9s 167ms/step - loss: 0.4395 - acc: 0.8088 - val_loss: 0.5771 - val_acc: 0.7776\n",
      "\n",
      "Epoch 00005: val_loss improved from 0.62987 to 0.57710, saving model to best_cnn_model.h5\n",
      "Epoch 6/200\n",
      "52/52 [==============================] - 9s 164ms/step - loss: 0.4156 - acc: 0.8159 - val_loss: 0.9332 - val_acc: 0.6501\n",
      "\n",
      "Epoch 00006: val_loss did not improve from 0.57710\n",
      "Epoch 7/200\n",
      "52/52 [==============================] - 9s 164ms/step - loss: 0.3547 - acc: 0.8500 - val_loss: 0.5314 - val_acc: 0.7918\n",
      "\n",
      "Epoch 00007: val_loss improved from 0.57710 to 0.53138, saving model to best_cnn_model.h5\n",
      "Epoch 8/200\n",
      "52/52 [==============================] - 9s 166ms/step - loss: 0.3367 - acc: 0.8589 - val_loss: 0.4256 - val_acc: 0.8074\n",
      "\n",
      "Epoch 00008: val_loss improved from 0.53138 to 0.42564, saving model to best_cnn_model.h5\n",
      "Epoch 9/200\n",
      "52/52 [==============================] - 9s 169ms/step - loss: 0.3359 - acc: 0.8721 - val_loss: 0.5393 - val_acc: 0.7762\n",
      "\n",
      "Epoch 00009: val_loss did not improve from 0.42564\n",
      "Epoch 10/200\n",
      "52/52 [==============================] - 9s 171ms/step - loss: 0.3018 - acc: 0.8730 - val_loss: 0.8110 - val_acc: 0.7195\n",
      "\n",
      "Epoch 00010: val_loss did not improve from 0.42564\n",
      "Epoch 11/200\n",
      "52/52 [==============================] - 9s 169ms/step - loss: 0.3154 - acc: 0.8775 - val_loss: 0.3865 - val_acc: 0.8499\n",
      "\n",
      "Epoch 00011: val_loss improved from 0.42564 to 0.38652, saving model to best_cnn_model.h5\n",
      "Epoch 12/200\n",
      "52/52 [==============================] - 9s 165ms/step - loss: 0.2821 - acc: 0.8808 - val_loss: 0.6220 - val_acc: 0.7790\n",
      "\n",
      "Epoch 00012: val_loss did not improve from 0.38652\n",
      "Epoch 13/200\n",
      "52/52 [==============================] - 9s 168ms/step - loss: 0.2339 - acc: 0.9071 - val_loss: 1.4328 - val_acc: 0.5977\n",
      "\n",
      "Epoch 00013: val_loss did not improve from 0.38652\n",
      "Epoch 14/200\n",
      "52/52 [==============================] - 9s 170ms/step - loss: 0.2297 - acc: 0.9086 - val_loss: 0.2722 - val_acc: 0.8909\n",
      "\n",
      "Epoch 00014: val_loss improved from 0.38652 to 0.27220, saving model to best_cnn_model.h5\n",
      "Epoch 15/200\n",
      "52/52 [==============================] - 9s 171ms/step - loss: 0.1879 - acc: 0.9255 - val_loss: 1.0142 - val_acc: 0.7210\n",
      "\n",
      "Epoch 00015: val_loss did not improve from 0.27220\n",
      "Epoch 16/200\n",
      "52/52 [==============================] - 9s 168ms/step - loss: 0.1986 - acc: 0.9201 - val_loss: 0.3180 - val_acc: 0.8853\n",
      "\n",
      "Epoch 00016: val_loss did not improve from 0.27220\n",
      "Epoch 17/200\n",
      "52/52 [==============================] - 9s 171ms/step - loss: 0.1944 - acc: 0.9205 - val_loss: 0.3203 - val_acc: 0.8881\n",
      "\n",
      "Epoch 00017: val_loss did not improve from 0.27220\n",
      "Epoch 18/200\n",
      "52/52 [==============================] - 9s 169ms/step - loss: 0.1926 - acc: 0.9261 - val_loss: 0.4869 - val_acc: 0.8286\n",
      "\n",
      "Epoch 00018: val_loss did not improve from 0.27220\n",
      "Epoch 19/200\n",
      "52/52 [==============================] - 9s 169ms/step - loss: 0.1563 - acc: 0.9379 - val_loss: 0.4143 - val_acc: 0.8569\n",
      "\n",
      "Epoch 00019: val_loss did not improve from 0.27220\n",
      "Epoch 20/200\n",
      "52/52 [==============================] - 9s 169ms/step - loss: 0.1611 - acc: 0.9373 - val_loss: 0.3576 - val_acc: 0.8697\n",
      "\n",
      "Epoch 00020: val_loss did not improve from 0.27220\n",
      "Epoch 21/200\n",
      "52/52 [==============================] - 9s 168ms/step - loss: 0.1570 - acc: 0.9387 - val_loss: 0.4506 - val_acc: 0.8229\n",
      "\n",
      "Epoch 00021: val_loss did not improve from 0.27220\n",
      "Epoch 22/200\n",
      "52/52 [==============================] - 9s 168ms/step - loss: 0.1635 - acc: 0.9324 - val_loss: 0.7238 - val_acc: 0.7649\n",
      "\n",
      "Epoch 00022: val_loss did not improve from 0.27220\n",
      "Epoch 23/200\n",
      "52/52 [==============================] - 9s 169ms/step - loss: 0.1414 - acc: 0.9441 - val_loss: 0.4369 - val_acc: 0.8555\n",
      "\n",
      "Epoch 00023: val_loss did not improve from 0.27220\n",
      "Epoch 24/200\n",
      "52/52 [==============================] - 9s 171ms/step - loss: 0.1344 - acc: 0.9477 - val_loss: 0.6301 - val_acc: 0.8116\n",
      "\n",
      "Epoch 00024: val_loss did not improve from 0.27220\n",
      "Epoch 25/200\n",
      "52/52 [==============================] - 9s 168ms/step - loss: 0.1485 - acc: 0.9429 - val_loss: 0.3465 - val_acc: 0.9008\n",
      "\n",
      "Epoch 00025: val_loss did not improve from 0.27220\n",
      "Epoch 26/200\n",
      "52/52 [==============================] - 9s 168ms/step - loss: 0.1315 - acc: 0.9483 - val_loss: 0.3299 - val_acc: 0.8839\n",
      "\n",
      "Epoch 00026: val_loss did not improve from 0.27220\n",
      "Epoch 27/200\n",
      "52/52 [==============================] - 9s 168ms/step - loss: 0.0911 - acc: 0.9681 - val_loss: 0.3435 - val_acc: 0.9023\n",
      "\n",
      "Epoch 00027: val_loss did not improve from 0.27220\n",
      "Epoch 28/200\n",
      "52/52 [==============================] - 9s 171ms/step - loss: 0.1339 - acc: 0.9537 - val_loss: 0.4321 - val_acc: 0.8640\n",
      "\n",
      "Epoch 00028: val_loss did not improve from 0.27220\n",
      "Epoch 29/200\n",
      "52/52 [==============================] - 9s 169ms/step - loss: 0.1013 - acc: 0.9626 - val_loss: 0.6034 - val_acc: 0.8286\n",
      "\n",
      "Epoch 00029: val_loss did not improve from 0.27220\n",
      "Epoch 30/200\n",
      "52/52 [==============================] - 9s 167ms/step - loss: 0.1147 - acc: 0.9534 - val_loss: 0.9436 - val_acc: 0.7337\n",
      "\n",
      "Epoch 00030: val_loss did not improve from 0.27220\n",
      "Epoch 31/200\n",
      "52/52 [==============================] - 9s 164ms/step - loss: 0.1139 - acc: 0.9566 - val_loss: 0.5037 - val_acc: 0.8555\n",
      "\n",
      "Epoch 00031: val_loss did not improve from 0.27220\n",
      "Epoch 32/200\n",
      "52/52 [==============================] - 9s 167ms/step - loss: 0.0964 - acc: 0.9624 - val_loss: 2.5030 - val_acc: 0.5623\n",
      "\n",
      "Epoch 00032: val_loss did not improve from 0.27220\n",
      "Epoch 33/200\n",
      "52/52 [==============================] - 9s 169ms/step - loss: 0.0774 - acc: 0.9705 - val_loss: 0.3701 - val_acc: 0.8938\n",
      "\n",
      "Epoch 00033: val_loss did not improve from 0.27220\n",
      "Epoch 34/200\n",
      "52/52 [==============================] - 9s 165ms/step - loss: 0.0846 - acc: 0.9647 - val_loss: 0.4621 - val_acc: 0.8754\n",
      "\n",
      "Epoch 00034: val_loss did not improve from 0.27220\n",
      "Epoch 00034: early stopping\n"
     ]
    }
   ],
   "source": [
    "history = model.fit_generator(datagen.flow(x_train, y_train, batch_size=32),epochs=200,validation_data=(x_valid,y_valid), callbacks=callbacks_list, shuffle=False, workers=5, use_multiprocessing=True)"
   ]
  },
  {
   "cell_type": "code",
   "execution_count": 26,
   "metadata": {},
   "outputs": [],
   "source": [
    "import matplotlib.pyplot as plt"
   ]
  },
  {
   "cell_type": "code",
   "execution_count": 27,
   "metadata": {},
   "outputs": [
    {
     "data": {
      "image/png": "[encoded data removed]",
      "text/plain": [
       "<Figure size 432x288 with 1 Axes>"
      ]
     },
     "metadata": {},
     "output_type": "display_data"
    }
   ],
   "source": [
    "# Plotting training accuracy vs validation accuracy\n",
    "\n",
    "plt.plot(history.history['acc'], 'r')\n",
    "plt.plot(history.history['val_acc'], 'b')\n",
    "plt.legend({'training accuracy': 'r', 'validation accuracy':'b'})\n",
    "plt.show()"
   ]
  },
  {
   "cell_type": "code",
   "execution_count": 28,
   "metadata": {},
   "outputs": [
    {
     "data": {
      "image/png": "[encoded data removed]",
      "text/plain": [
       "<Figure size 432x288 with 1 Axes>"
      ]
     },
     "metadata": {},
     "output_type": "display_data"
    }
   ],
   "source": [
    "# Plotting training loss vs validation loss\n",
    "\n",
    "plt.plot(history.history['loss'], 'r')\n",
    "plt.plot(history.history['val_loss'], 'b')\n",
    "plt.legend({'training loss': 'r', 'validation loss':'b'})\n",
    "plt.show()"
   ]
  },
  {
   "cell_type": "code",
   "execution_count": null,
   "metadata": {},
   "outputs": [],
   "source": []
  }
 ],
 "metadata": {
  "kernelspec": {
   "display_name": "Python 3",
   "language": "python",
   "name": "python3"
  },
  "language_info": {
   "codemirror_mode": {
    "name": "ipython",
    "version": 3
   },
   "file_extension": ".py",
   "mimetype": "text/x-python",
   "name": "python",
   "nbconvert_exporter": "python",
   "pygments_lexer": "ipython3",
   "version": "3.7.6"
  }
 },
 "nbformat": 4,
 "nbformat_minor": 2
}
