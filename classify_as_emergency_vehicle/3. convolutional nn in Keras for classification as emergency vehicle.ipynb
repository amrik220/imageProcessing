{
 "cells": [
  {
   "cell_type": "markdown",
   "metadata": {
    "colab_type": "text",
    "id": "FHuGhw8HAPTH"
   },
   "source": [
    "## 1. Load and preprocess data"
   ]
  },
  {
   "cell_type": "code",
   "execution_count": 1,
   "metadata": {
    "colab": {},
    "colab_type": "code",
    "executionInfo": {
     "elapsed": 3009,
     "status": "ok",
     "timestamp": 1597289258711,
     "user": {
      "displayName": "Amrik Singh",
      "photoUrl": "https://lh3.googleusercontent.com/a-/AOh14GgQWaPrZ27P4KMHO66jDciIgIdtBUQ47fLBf6mb=s64",
      "userId": "12741216172458192748"
     },
     "user_tz": -600
    },
    "id": "_pfVY_X7APTL"
   },
   "outputs": [
    {
     "name": "stderr",
     "output_type": "stream",
     "text": [
      "Using TensorFlow backend.\n",
      "C:\\Users\\amrik\\anaconda3\\lib\\site-packages\\tensorflow\\python\\framework\\dtypes.py:516: FutureWarning: Passing (type, 1) or '1type' as a synonym of type is deprecated; in a future version of numpy, it will be understood as (type, (1,)) / '(1,)type'.\n",
      "  _np_qint8 = np.dtype([(\"qint8\", np.int8, 1)])\n",
      "C:\\Users\\amrik\\anaconda3\\lib\\site-packages\\tensorflow\\python\\framework\\dtypes.py:517: FutureWarning: Passing (type, 1) or '1type' as a synonym of type is deprecated; in a future version of numpy, it will be understood as (type, (1,)) / '(1,)type'.\n",
      "  _np_quint8 = np.dtype([(\"quint8\", np.uint8, 1)])\n",
      "C:\\Users\\amrik\\anaconda3\\lib\\site-packages\\tensorflow\\python\\framework\\dtypes.py:518: FutureWarning: Passing (type, 1) or '1type' as a synonym of type is deprecated; in a future version of numpy, it will be understood as (type, (1,)) / '(1,)type'.\n",
      "  _np_qint16 = np.dtype([(\"qint16\", np.int16, 1)])\n",
      "C:\\Users\\amrik\\anaconda3\\lib\\site-packages\\tensorflow\\python\\framework\\dtypes.py:519: FutureWarning: Passing (type, 1) or '1type' as a synonym of type is deprecated; in a future version of numpy, it will be understood as (type, (1,)) / '(1,)type'.\n",
      "  _np_quint16 = np.dtype([(\"quint16\", np.uint16, 1)])\n",
      "C:\\Users\\amrik\\anaconda3\\lib\\site-packages\\tensorflow\\python\\framework\\dtypes.py:520: FutureWarning: Passing (type, 1) or '1type' as a synonym of type is deprecated; in a future version of numpy, it will be understood as (type, (1,)) / '(1,)type'.\n",
      "  _np_qint32 = np.dtype([(\"qint32\", np.int32, 1)])\n",
      "C:\\Users\\amrik\\anaconda3\\lib\\site-packages\\tensorflow\\python\\framework\\dtypes.py:525: FutureWarning: Passing (type, 1) or '1type' as a synonym of type is deprecated; in a future version of numpy, it will be understood as (type, (1,)) / '(1,)type'.\n",
      "  np_resource = np.dtype([(\"resource\", np.ubyte, 1)])\n",
      "C:\\Users\\amrik\\anaconda3\\lib\\site-packages\\tensorboard\\compat\\tensorflow_stub\\dtypes.py:541: FutureWarning: Passing (type, 1) or '1type' as a synonym of type is deprecated; in a future version of numpy, it will be understood as (type, (1,)) / '(1,)type'.\n",
      "  _np_qint8 = np.dtype([(\"qint8\", np.int8, 1)])\n",
      "C:\\Users\\amrik\\anaconda3\\lib\\site-packages\\tensorboard\\compat\\tensorflow_stub\\dtypes.py:542: FutureWarning: Passing (type, 1) or '1type' as a synonym of type is deprecated; in a future version of numpy, it will be understood as (type, (1,)) / '(1,)type'.\n",
      "  _np_quint8 = np.dtype([(\"quint8\", np.uint8, 1)])\n",
      "C:\\Users\\amrik\\anaconda3\\lib\\site-packages\\tensorboard\\compat\\tensorflow_stub\\dtypes.py:543: FutureWarning: Passing (type, 1) or '1type' as a synonym of type is deprecated; in a future version of numpy, it will be understood as (type, (1,)) / '(1,)type'.\n",
      "  _np_qint16 = np.dtype([(\"qint16\", np.int16, 1)])\n",
      "C:\\Users\\amrik\\anaconda3\\lib\\site-packages\\tensorboard\\compat\\tensorflow_stub\\dtypes.py:544: FutureWarning: Passing (type, 1) or '1type' as a synonym of type is deprecated; in a future version of numpy, it will be understood as (type, (1,)) / '(1,)type'.\n",
      "  _np_quint16 = np.dtype([(\"quint16\", np.uint16, 1)])\n",
      "C:\\Users\\amrik\\anaconda3\\lib\\site-packages\\tensorboard\\compat\\tensorflow_stub\\dtypes.py:545: FutureWarning: Passing (type, 1) or '1type' as a synonym of type is deprecated; in a future version of numpy, it will be understood as (type, (1,)) / '(1,)type'.\n",
      "  _np_qint32 = np.dtype([(\"qint32\", np.int32, 1)])\n",
      "C:\\Users\\amrik\\anaconda3\\lib\\site-packages\\tensorboard\\compat\\tensorflow_stub\\dtypes.py:550: FutureWarning: Passing (type, 1) or '1type' as a synonym of type is deprecated; in a future version of numpy, it will be understood as (type, (1,)) / '(1,)type'.\n",
      "  np_resource = np.dtype([(\"resource\", np.ubyte, 1)])\n"
     ]
    }
   ],
   "source": [
    "%matplotlib inline\n",
    "\n",
    "import pandas as pd\n",
    "import numpy as np\n",
    "from glob import glob\n",
    "import matplotlib.pyplot as plt\n",
    "\n",
    "from keras.models import Sequential\n",
    "from keras.preprocessing import image\n",
    "from keras.layers import Dense, InputLayer, Conv2D, MaxPool2D, Flatten\n",
    "    \n",
    "from sklearn.model_selection import train_test_split"
   ]
  },
  {
   "cell_type": "code",
   "execution_count": 2,
   "metadata": {
    "colab": {
     "base_uri": "https://localhost:8080/",
     "height": 102
    },
    "colab_type": "code",
    "executionInfo": {
     "elapsed": 9302,
     "status": "ok",
     "timestamp": 1597289265018,
     "user": {
      "displayName": "Amrik Singh",
      "photoUrl": "https://lh3.googleusercontent.com/a-/AOh14GgQWaPrZ27P4KMHO66jDciIgIdtBUQ47fLBf6mb=s64",
      "userId": "12741216172458192748"
     },
     "user_tz": -600
    },
    "id": "Mx9KURelAfeH",
    "outputId": "3d271706-4896-41c8-ce45-741cc2ad678e"
   },
   "outputs": [],
   "source": [
    "# import os\n",
    "# if os.path.exists('/content/imageProcessing') == False:\n",
    "#   !git clone https://github.com/amrik220/imageProcessing"
   ]
  },
  {
   "cell_type": "code",
   "execution_count": 3,
   "metadata": {
    "colab": {},
    "colab_type": "code",
    "executionInfo": {
     "elapsed": 9295,
     "status": "ok",
     "timestamp": 1597289265019,
     "user": {
      "displayName": "Amrik Singh",
      "photoUrl": "https://lh3.googleusercontent.com/a-/AOh14GgQWaPrZ27P4KMHO66jDciIgIdtBUQ47fLBf6mb=s64",
      "userId": "12741216172458192748"
     },
     "user_tz": -600
    },
    "id": "sDZT5vI1Anpy"
   },
   "outputs": [],
   "source": [
    "# Display output of all code lines in Jupyter notebook\n",
    "from IPython.core.interactiveshell import InteractiveShell\n",
    "InteractiveShell.ast_node_interactivity = \"all\""
   ]
  },
  {
   "cell_type": "code",
   "execution_count": 4,
   "metadata": {
    "colab": {},
    "colab_type": "code",
    "executionInfo": {
     "elapsed": 9290,
     "status": "ok",
     "timestamp": 1597289265020,
     "user": {
      "displayName": "Amrik Singh",
      "photoUrl": "https://lh3.googleusercontent.com/a-/AOh14GgQWaPrZ27P4KMHO66jDciIgIdtBUQ47fLBf6mb=s64",
      "userId": "12741216172458192748"
     },
     "user_tz": -600
    },
    "id": "91FPkzPOAPTV"
   },
   "outputs": [],
   "source": [
    "# to reproduce results\n",
    "seed = 220\n",
    "rng = np.random.RandomState(seed)"
   ]
  },
  {
   "cell_type": "code",
   "execution_count": 5,
   "metadata": {
    "colab": {
     "base_uri": "https://localhost:8080/",
     "height": 221
    },
    "colab_type": "code",
    "executionInfo": {
     "elapsed": 9280,
     "status": "ok",
     "timestamp": 1597289265021,
     "user": {
      "displayName": "Amrik Singh",
      "photoUrl": "https://lh3.googleusercontent.com/a-/AOh14GgQWaPrZ27P4KMHO66jDciIgIdtBUQ47fLBf6mb=s64",
      "userId": "12741216172458192748"
     },
     "user_tz": -600
    },
    "id": "Xzsh7i-hAPTZ",
    "outputId": "f42539a9-5b79-419d-a472-bf52e5c1f799"
   },
   "outputs": [
    {
     "data": {
      "text/html": [
       "<div>\n",
       "<style scoped>\n",
       "    .dataframe tbody tr th:only-of-type {\n",
       "        vertical-align: middle;\n",
       "    }\n",
       "\n",
       "    .dataframe tbody tr th {\n",
       "        vertical-align: top;\n",
       "    }\n",
       "\n",
       "    .dataframe thead th {\n",
       "        text-align: right;\n",
       "    }\n",
       "</style>\n",
       "<table border=\"1\" class=\"dataframe\">\n",
       "  <thead>\n",
       "    <tr style=\"text-align: right;\">\n",
       "      <th></th>\n",
       "      <th>image_names</th>\n",
       "      <th>emergency_or_not</th>\n",
       "    </tr>\n",
       "  </thead>\n",
       "  <tbody>\n",
       "    <tr>\n",
       "      <th>0</th>\n",
       "      <td>0.jpg</td>\n",
       "      <td>1</td>\n",
       "    </tr>\n",
       "    <tr>\n",
       "      <th>1</th>\n",
       "      <td>1.jpg</td>\n",
       "      <td>1</td>\n",
       "    </tr>\n",
       "    <tr>\n",
       "      <th>2</th>\n",
       "      <td>2.jpg</td>\n",
       "      <td>1</td>\n",
       "    </tr>\n",
       "    <tr>\n",
       "      <th>3</th>\n",
       "      <td>3.jpg</td>\n",
       "      <td>1</td>\n",
       "    </tr>\n",
       "    <tr>\n",
       "      <th>4</th>\n",
       "      <td>4.jpg</td>\n",
       "      <td>1</td>\n",
       "    </tr>\n",
       "  </tbody>\n",
       "</table>\n",
       "</div>"
      ],
      "text/plain": [
       "  image_names  emergency_or_not\n",
       "0       0.jpg                 1\n",
       "1       1.jpg                 1\n",
       "2       2.jpg                 1\n",
       "3       3.jpg                 1\n",
       "4       4.jpg                 1"
      ]
     },
     "execution_count": 5,
     "metadata": {},
     "output_type": "execute_result"
    },
    {
     "data": {
      "text/plain": [
       "(2352, 2)"
      ]
     },
     "execution_count": 5,
     "metadata": {},
     "output_type": "execute_result"
    }
   ],
   "source": [
    "# load data labels from the csv file\n",
    "data = pd.read_csv('./emergency_class_labels.csv')\n",
    "# data = pd.read_csv('/content/imageProcessing/classify_as_emergency_vehicle/emergency_class_labels.csv')\n",
    "\n",
    "data.head()\n",
    "data.shape"
   ]
  },
  {
   "cell_type": "code",
   "execution_count": 6,
   "metadata": {
    "colab": {
     "base_uri": "https://localhost:8080/",
     "height": 68
    },
    "colab_type": "code",
    "executionInfo": {
     "elapsed": 9268,
     "status": "ok",
     "timestamp": 1597289265021,
     "user": {
      "displayName": "Amrik Singh",
      "photoUrl": "https://lh3.googleusercontent.com/a-/AOh14GgQWaPrZ27P4KMHO66jDciIgIdtBUQ47fLBf6mb=s64",
      "userId": "12741216172458192748"
     },
     "user_tz": -600
    },
    "id": "wlpKl4LLAPTe",
    "outputId": "8dea0a19-0912-4448-f111-b8dd11e19b6c"
   },
   "outputs": [
    {
     "data": {
      "text/plain": [
       "0    1361\n",
       "1     991\n",
       "Name: emergency_or_not, dtype: int64"
      ]
     },
     "execution_count": 6,
     "metadata": {},
     "output_type": "execute_result"
    },
    {
     "data": {
      "text/plain": [
       "72.81410727406319"
      ]
     },
     "execution_count": 6,
     "metadata": {},
     "output_type": "execute_result"
    }
   ],
   "source": [
    "# check class balance\n",
    "data.emergency_or_not.value_counts()\n",
    "data.emergency_or_not.value_counts()[1]/data.emergency_or_not.value_counts()[0]*100"
   ]
  },
  {
   "cell_type": "code",
   "execution_count": 7,
   "metadata": {
    "colab": {
     "base_uri": "https://localhost:8080/",
     "height": 34
    },
    "colab_type": "code",
    "executionInfo": {
     "elapsed": 12779,
     "status": "ok",
     "timestamp": 1597289268546,
     "user": {
      "displayName": "Amrik Singh",
      "photoUrl": "https://lh3.googleusercontent.com/a-/AOh14GgQWaPrZ27P4KMHO66jDciIgIdtBUQ47fLBf6mb=s64",
      "userId": "12741216172458192748"
     },
     "user_tz": -600
    },
    "id": "t7sOyBk6APTi",
    "outputId": "4772123c-238a-408f-f70a-271e7d32b013"
   },
   "outputs": [
    {
     "data": {
      "text/plain": [
       "(4, (2352, 224, 224, 3))"
      ]
     },
     "execution_count": 7,
     "metadata": {},
     "output_type": "execute_result"
    }
   ],
   "source": [
    "# load images and store it in a numpy array\n",
    "x = []\n",
    "for img_name in data.image_names:\n",
    "    img = plt.imread('./images/' + img_name)\n",
    "#     img = plt.imread('/content/imageProcessing/classify_as_emergency_vehicle/images/' + img_name)\n",
    "\n",
    "    x.append(img)\n",
    "    \n",
    "x = np.array(x)\n",
    "\n",
    "# create target\n",
    "y = data.emergency_or_not.values\n",
    "\n",
    "x.ndim, x.shape"
   ]
  },
  {
   "cell_type": "code",
   "execution_count": 8,
   "metadata": {
    "colab": {},
    "colab_type": "code",
    "executionInfo": {
     "elapsed": 15321,
     "status": "ok",
     "timestamp": 1597289271100,
     "user": {
      "displayName": "Amrik Singh",
      "photoUrl": "https://lh3.googleusercontent.com/a-/AOh14GgQWaPrZ27P4KMHO66jDciIgIdtBUQ47fLBf6mb=s64",
      "userId": "12741216172458192748"
     },
     "user_tz": -600
    },
    "id": "3lD95zmnAPTo"
   },
   "outputs": [],
   "source": [
    "# preprocessing\n",
    "x_min = x.min()\n",
    "x_max = x.max()\n",
    "x = (x - x_min) / (x_max - x_min)"
   ]
  },
  {
   "cell_type": "code",
   "execution_count": 9,
   "metadata": {
    "colab": {},
    "colab_type": "code",
    "executionInfo": {
     "elapsed": 16910,
     "status": "ok",
     "timestamp": 1597289272701,
     "user": {
      "displayName": "Amrik Singh",
      "photoUrl": "https://lh3.googleusercontent.com/a-/AOh14GgQWaPrZ27P4KMHO66jDciIgIdtBUQ47fLBf6mb=s64",
      "userId": "12741216172458192748"
     },
     "user_tz": -600
    },
    "id": "Yo7ClpKUAPTs"
   },
   "outputs": [],
   "source": [
    "# Split into Train and Test set\n",
    "X_train, X_valid, Y_train, Y_valid=train_test_split(x,y,test_size=0.3, random_state=seed)"
   ]
  },
  {
   "cell_type": "markdown",
   "metadata": {
    "colab_type": "text",
    "id": "9gOBA42vAPTv"
   },
   "source": [
    "## 3. Model Building"
   ]
  },
  {
   "cell_type": "code",
   "execution_count": 10,
   "metadata": {
    "colab": {},
    "colab_type": "code",
    "executionInfo": {
     "elapsed": 21616,
     "status": "ok",
     "timestamp": 1597289277419,
     "user": {
      "displayName": "Amrik Singh",
      "photoUrl": "https://lh3.googleusercontent.com/a-/AOh14GgQWaPrZ27P4KMHO66jDciIgIdtBUQ47fLBf6mb=s64",
      "userId": "12741216172458192748"
     },
     "user_tz": -600
    },
    "id": "u_u2na7LAPTx"
   },
   "outputs": [],
   "source": [
    "model = Sequential()\n",
    "    \n",
    "model.add(InputLayer(input_shape=(224, 224, 3)))\n",
    "\n",
    "model.add(Conv2D(25, (5, 5), activation='relu', strides=(1, 1), padding='valid'))\n",
    "model.add(Conv2D(50, (5, 5), activation='relu', strides=(1, 1), padding='valid'))\n",
    "\n",
    "model.add(Flatten())\n",
    "\n",
    "model.add(Dense(units=100, activation='sigmoid'))\n",
    "model.add(Dense(units=1, activation='sigmoid'))"
   ]
  },
  {
   "cell_type": "code",
   "execution_count": 11,
   "metadata": {
    "colab": {
     "base_uri": "https://localhost:8080/",
     "height": 323
    },
    "colab_type": "code",
    "executionInfo": {
     "elapsed": 21602,
     "status": "ok",
     "timestamp": 1597289277421,
     "user": {
      "displayName": "Amrik Singh",
      "photoUrl": "https://lh3.googleusercontent.com/a-/AOh14GgQWaPrZ27P4KMHO66jDciIgIdtBUQ47fLBf6mb=s64",
      "userId": "12741216172458192748"
     },
     "user_tz": -600
    },
    "id": "JovhsdPoAPT1",
    "outputId": "53a5e64d-8ac2-49d6-b5bb-3389e6b9877a",
    "scrolled": true
   },
   "outputs": [
    {
     "name": "stdout",
     "output_type": "stream",
     "text": [
      "Model: \"sequential_1\"\n",
      "_________________________________________________________________\n",
      "Layer (type)                 Output Shape              Param #   \n",
      "=================================================================\n",
      "conv2d_1 (Conv2D)            (None, 220, 220, 25)      1900      \n",
      "_________________________________________________________________\n",
      "conv2d_2 (Conv2D)            (None, 216, 216, 50)      31300     \n",
      "_________________________________________________________________\n",
      "flatten_1 (Flatten)          (None, 2332800)           0         \n",
      "_________________________________________________________________\n",
      "dense_1 (Dense)              (None, 100)               233280100 \n",
      "_________________________________________________________________\n",
      "dense_2 (Dense)              (None, 1)                 101       \n",
      "=================================================================\n",
      "Total params: 233,313,401\n",
      "Trainable params: 233,313,401\n",
      "Non-trainable params: 0\n",
      "_________________________________________________________________\n"
     ]
    }
   ],
   "source": [
    "model.summary()"
   ]
  },
  {
   "cell_type": "code",
   "execution_count": 12,
   "metadata": {
    "colab": {},
    "colab_type": "code",
    "executionInfo": {
     "elapsed": 21586,
     "status": "ok",
     "timestamp": 1597289277422,
     "user": {
      "displayName": "Amrik Singh",
      "photoUrl": "https://lh3.googleusercontent.com/a-/AOh14GgQWaPrZ27P4KMHO66jDciIgIdtBUQ47fLBf6mb=s64",
      "userId": "12741216172458192748"
     },
     "user_tz": -600
    },
    "id": "l1HnfYJkAPT5"
   },
   "outputs": [
    {
     "name": "stdout",
     "output_type": "stream",
     "text": [
      "WARNING:tensorflow:From C:\\Users\\amrik\\anaconda3\\lib\\site-packages\\tensorflow\\python\\ops\\nn_impl.py:180: add_dispatch_support.<locals>.wrapper (from tensorflow.python.ops.array_ops) is deprecated and will be removed in a future version.\n",
      "Instructions for updating:\n",
      "Use tf.where in 2.0, which has the same broadcast rule as np.where\n"
     ]
    }
   ],
   "source": [
    "model.compile(loss='binary_crossentropy', optimizer=\"sgd\", metrics=['accuracy'])"
   ]
  },
  {
   "cell_type": "code",
   "execution_count": null,
   "metadata": {
    "colab": {
     "base_uri": "https://localhost:8080/",
     "height": 102
    },
    "colab_type": "code",
    "executionInfo": {
     "elapsed": 1462225,
     "status": "ok",
     "timestamp": 1597290718081,
     "user": {
      "displayName": "Amrik Singh",
      "photoUrl": "https://lh3.googleusercontent.com/a-/AOh14GgQWaPrZ27P4KMHO66jDciIgIdtBUQ47fLBf6mb=s64",
      "userId": "12741216172458192748"
     },
     "user_tz": -600
    },
    "id": "NAYPOHjNAPT-",
    "outputId": "521653a3-ca55-411b-f68c-b22e3ae7f203",
    "scrolled": false
   },
   "outputs": [
    {
     "name": "stdout",
     "output_type": "stream",
     "text": [
      "WARNING:tensorflow:From C:\\Users\\amrik\\anaconda3\\lib\\site-packages\\keras\\backend\\tensorflow_backend.py:422: The name tf.global_variables is deprecated. Please use tf.compat.v1.global_variables instead.\n",
      "\n",
      "Train on 1646 samples, validate on 706 samples\n",
      "Epoch 1/2\n",
      "1646/1646 [==============================] - 403s 245ms/step - loss: 0.6620 - accuracy: 0.6142 - val_loss: 0.6070 - val_accuracy: 0.6870\n",
      "Epoch 2/2\n",
      " 704/1646 [===========>..................] - ETA: 3:46 - loss: 0.6055 - accuracy: 0.7003"
     ]
    }
   ],
   "source": [
    "model.fit(X_train, Y_train, epochs=2, validation_data=(X_valid,Y_valid))\n",
    "# model.fit(X_train, Y_train, epochs=10, validation_data=(X_valid,Y_valid))"
   ]
  },
  {
   "cell_type": "code",
   "execution_count": null,
   "metadata": {
    "colab": {},
    "colab_type": "code",
    "executionInfo": {
     "elapsed": 1462216,
     "status": "ok",
     "timestamp": 1597290718087,
     "user": {
      "displayName": "Amrik Singh",
      "photoUrl": "https://lh3.googleusercontent.com/a-/AOh14GgQWaPrZ27P4KMHO66jDciIgIdtBUQ47fLBf6mb=s64",
      "userId": "12741216172458192748"
     },
     "user_tz": -600
    },
    "id": "e4huBncgAPUC"
   },
   "outputs": [],
   "source": [
    "### MaxPool2D"
   ]
  },
  {
   "cell_type": "code",
   "execution_count": null,
   "metadata": {
    "colab": {},
    "colab_type": "code",
    "executionInfo": {
     "elapsed": 1349,
     "status": "ok",
     "timestamp": 1597292244148,
     "user": {
      "displayName": "Amrik Singh",
      "photoUrl": "https://lh3.googleusercontent.com/a-/AOh14GgQWaPrZ27P4KMHO66jDciIgIdtBUQ47fLBf6mb=s64",
      "userId": "12741216172458192748"
     },
     "user_tz": -600
    },
    "id": "twA3mmGiAPUE"
   },
   "outputs": [],
   "source": [
    "model = Sequential()\n",
    "    \n",
    "model.add(InputLayer(input_shape=(224, 224, 3)))\n",
    "\n",
    "model.add(Conv2D(25, (5, 5), activation='relu', strides=(1, 1), padding='valid'))\n",
    "model.add(Conv2D(50, (5, 5), activation='relu', strides=(1, 1), padding='valid'))\n",
    "model.add(MaxPool2D(pool_size=(4, 4), padding='valid'))\n",
    "model.add(Flatten())\n",
    "\n",
    "model.add(Dense(units=100, activation='sigmoid'))\n",
    "model.add(Dense(units=1, activation='sigmoid'))\n",
    "\n",
    "model.compile(loss='binary_crossentropy', optimizer=\"sgd\", metrics=['accuracy'])"
   ]
  },
  {
   "cell_type": "code",
   "execution_count": null,
   "metadata": {
    "colab": {
     "base_uri": "https://localhost:8080/",
     "height": 357
    },
    "colab_type": "code",
    "executionInfo": {
     "elapsed": 670,
     "status": "ok",
     "timestamp": 1597292250375,
     "user": {
      "displayName": "Amrik Singh",
      "photoUrl": "https://lh3.googleusercontent.com/a-/AOh14GgQWaPrZ27P4KMHO66jDciIgIdtBUQ47fLBf6mb=s64",
      "userId": "12741216172458192748"
     },
     "user_tz": -600
    },
    "id": "LuEq5rtyAPUH",
    "outputId": "a54f540d-2304-4a08-ecc7-09d1127368ac"
   },
   "outputs": [],
   "source": [
    "model.summary()"
   ]
  },
  {
   "cell_type": "code",
   "execution_count": null,
   "metadata": {
    "colab": {
     "base_uri": "https://localhost:8080/",
     "height": 122
    },
    "colab_type": "code",
    "executionInfo": {
     "elapsed": 1230504,
     "status": "ok",
     "timestamp": 1597293487056,
     "user": {
      "displayName": "Amrik Singh",
      "photoUrl": "https://lh3.googleusercontent.com/a-/AOh14GgQWaPrZ27P4KMHO66jDciIgIdtBUQ47fLBf6mb=s64",
      "userId": "12741216172458192748"
     },
     "user_tz": -600
    },
    "id": "tO8HtVlCAPUK",
    "outputId": "ba2bb473-f4d8-4ddf-bb04-fd873dfa0f76",
    "scrolled": false
   },
   "outputs": [],
   "source": [
    "model.fit(X_train, Y_train, epochs=2,validation_data=(X_valid,Y_valid))\n",
    "# model.fit(X_train, Y_train, epochs=10,validation_data=(X_valid,Y_valid))"
   ]
  },
  {
   "cell_type": "code",
   "execution_count": null,
   "metadata": {
    "colab": {
     "base_uri": "https://localhost:8080/",
     "height": 391
    },
    "colab_type": "code",
    "executionInfo": {
     "elapsed": 124849,
     "status": "ok",
     "timestamp": 1597294161423,
     "user": {
      "displayName": "Amrik Singh",
      "photoUrl": "https://lh3.googleusercontent.com/a-/AOh14GgQWaPrZ27P4KMHO66jDciIgIdtBUQ47fLBf6mb=s64",
      "userId": "12741216172458192748"
     },
     "user_tz": -600
    },
    "id": "Ulub3mM-APUR",
    "outputId": "090c0732-fe11-45aa-c61f-6b4ec1e56a68"
   },
   "outputs": [],
   "source": [
    "# get predictions\n",
    "predictions = model.predict_classes(X_valid)[:, 0]\n",
    "prediction_probabilities = model.predict(X_valid)[:, 0]\n",
    "\n",
    "# pull out the original images from the data\n",
    "# which correspond to the validation data\n",
    "_, valid_vehicles, _, valid_y = train_test_split(data.image_names.values, y, test_size=0.3, random_state=seed)\n",
    "\n",
    "# get a random index to plot image randomly\n",
    "index = rng.choice(range(len(valid_vehicles)))\n",
    "\n",
    "# get the corresponding image name and probability\n",
    "img_name = valid_vehicles[index]\n",
    "prob = (prediction_probabilities * 100).astype(int)[index]\n",
    "\n",
    "# read the image\n",
    "# img = plt.imread('./images/' + img_name)\n",
    "img = plt.imread('/content/imageProcessing/classify_as_emergency_vehicle/images/' + img_name)\n",
    "\n",
    "\n",
    "# print probability and actual class\n",
    "print('There is', prob , '% chance that it is an emergency vehicle')\n",
    "print('Whereas actual class is ', valid_y[index])\n",
    "\n",
    "# plot image\n",
    "plt.imshow(img)"
   ]
  },
  {
   "cell_type": "code",
   "execution_count": null,
   "metadata": {
    "colab": {
     "base_uri": "https://localhost:8080/",
     "height": 320
    },
    "colab_type": "code",
    "executionInfo": {
     "elapsed": 115939,
     "status": "ok",
     "timestamp": 1597294162167,
     "user": {
      "displayName": "Amrik Singh",
      "photoUrl": "https://lh3.googleusercontent.com/a-/AOh14GgQWaPrZ27P4KMHO66jDciIgIdtBUQ47fLBf6mb=s64",
      "userId": "12741216172458192748"
     },
     "user_tz": -600
    },
    "id": "My7nIoxkAPUU",
    "outputId": "c2c4ab38-a440-4d83-b287-bc5e29159ae2"
   },
   "outputs": [],
   "source": [
    "incorrect_indices = np.where(predictions != valid_y)[0]\n",
    "\n",
    "index = rng.choice(incorrect_indices)\n",
    "img_name = valid_vehicles[index]\n",
    "\n",
    "\n",
    "prob = (prediction_probabilities * 100).astype(int)[index]\n",
    "\n",
    "# img = plt.imread('./images/' + img_name)\n",
    "img = plt.imread('/content/imageProcessing/classify_as_emergency_vehicle/images/' + img_name)\n",
    "\n",
    "print(prob , '% sure that it is emergency')\n",
    "print('Whereas actual class is ', valid_y[index])\n",
    "\n",
    "plt.imshow(img)"
   ]
  },
  {
   "cell_type": "markdown",
   "metadata": {
    "colab_type": "text",
    "id": "dbSgp0VaAPUh"
   },
   "source": [
    "## 4. Hyperparameter Tuning"
   ]
  },
  {
   "cell_type": "code",
   "execution_count": null,
   "metadata": {
    "colab": {},
    "colab_type": "code",
    "executionInfo": {
     "elapsed": 641,
     "status": "ok",
     "timestamp": 1597294407079,
     "user": {
      "displayName": "Amrik Singh",
      "photoUrl": "https://lh3.googleusercontent.com/a-/AOh14GgQWaPrZ27P4KMHO66jDciIgIdtBUQ47fLBf6mb=s64",
      "userId": "12741216172458192748"
     },
     "user_tz": -600
    },
    "id": "KxUWJ2f5APUi"
   },
   "outputs": [],
   "source": [
    "# change activation function of hidden layer\n",
    "# increase hidden neurons\n",
    "# increase hidden layers\n",
    "# increase number of epochs\n",
    "# change optimizer\n",
    "\n",
    "# increase number of convolutional layers\n",
    "# increase number of pooling layers\n",
    "# increase number of convolutional filters\n",
    "# change size of conv\n",
    "# change size of pooling\n",
    "# change padding technique\n",
    "# change stride"
   ]
  },
  {
   "cell_type": "code",
   "execution_count": null,
   "metadata": {
    "colab": {},
    "colab_type": "code",
    "executionInfo": {
     "elapsed": 664,
     "status": "ok",
     "timestamp": 1597294413200,
     "user": {
      "displayName": "Amrik Singh",
      "photoUrl": "https://lh3.googleusercontent.com/a-/AOh14GgQWaPrZ27P4KMHO66jDciIgIdtBUQ47fLBf6mb=s64",
      "userId": "12741216172458192748"
     },
     "user_tz": -600
    },
    "id": "e8Rsm0YjAPUl"
   },
   "outputs": [],
   "source": [
    "# increase number of convolutional and pooling layers\n",
    "\n",
    "model = Sequential()\n",
    "    \n",
    "model.add(InputLayer(input_shape=(224, 224, 3)))\n",
    "\n",
    "model.add(Conv2D(25, (5, 5), activation='relu', strides=(1, 1), padding='valid'))\n",
    "model.add(Conv2D(50, (5, 5), activation='relu', strides=(1, 1), padding='valid'))\n",
    "model.add(MaxPool2D(pool_size=(4, 4), padding='valid'))\n",
    "\n",
    "model.add(Conv2D(100, (5, 5), activation='relu', strides=(1, 1), padding='valid'))\n",
    "model.add(MaxPool2D(pool_size=(4, 4), padding='valid'))\n",
    "\n",
    "model.add(Flatten())\n",
    "\n",
    "model.add(Dense(units=100, activation='sigmoid'))\n",
    "model.add(Dense(units=1, activation='sigmoid'))\n",
    "\n",
    "model.compile(loss='binary_crossentropy', optimizer=\"sgd\", metrics=['accuracy'])"
   ]
  },
  {
   "cell_type": "code",
   "execution_count": null,
   "metadata": {
    "colab": {
     "base_uri": "https://localhost:8080/",
     "height": 425
    },
    "colab_type": "code",
    "executionInfo": {
     "elapsed": 703,
     "status": "ok",
     "timestamp": 1597294733679,
     "user": {
      "displayName": "Amrik Singh",
      "photoUrl": "https://lh3.googleusercontent.com/a-/AOh14GgQWaPrZ27P4KMHO66jDciIgIdtBUQ47fLBf6mb=s64",
      "userId": "12741216172458192748"
     },
     "user_tz": -600
    },
    "id": "AZzo8SuOAPUp",
    "outputId": "8ab41dae-96b5-470a-8bb5-acecefc3712b"
   },
   "outputs": [],
   "source": [
    "model.summary()"
   ]
  },
  {
   "cell_type": "code",
   "execution_count": null,
   "metadata": {
    "colab": {
     "base_uri": "https://localhost:8080/",
     "height": 102
    },
    "colab_type": "code",
    "executionInfo": {
     "elapsed": 1372882,
     "status": "ok",
     "timestamp": 1597296116378,
     "user": {
      "displayName": "Amrik Singh",
      "photoUrl": "https://lh3.googleusercontent.com/a-/AOh14GgQWaPrZ27P4KMHO66jDciIgIdtBUQ47fLBf6mb=s64",
      "userId": "12741216172458192748"
     },
     "user_tz": -600
    },
    "id": "2hUNnQC6APUt",
    "outputId": "a290da93-e8d2-4cad-9ae7-40f6a71d3e60",
    "scrolled": false
   },
   "outputs": [],
   "source": [
    "model.fit(X_train, Y_train, epochs=2 , validation_data=(X_valid,Y_valid))\n",
    "# model.fit(X_train, Y_train, epochs=10,validation_data=(X_valid,Y_valid))"
   ]
  },
  {
   "cell_type": "code",
   "execution_count": null,
   "metadata": {
    "colab": {},
    "colab_type": "code",
    "executionInfo": {
     "elapsed": 677,
     "status": "ok",
     "timestamp": 1597296123172,
     "user": {
      "displayName": "Amrik Singh",
      "photoUrl": "https://lh3.googleusercontent.com/a-/AOh14GgQWaPrZ27P4KMHO66jDciIgIdtBUQ47fLBf6mb=s64",
      "userId": "12741216172458192748"
     },
     "user_tz": -600
    },
    "id": "4U-rbyAPAPU3"
   },
   "outputs": [],
   "source": [
    "# increase number of convolutional filters\n",
    "\n",
    "model = Sequential()\n",
    "    \n",
    "model.add(InputLayer(input_shape=(224, 224, 3)))\n",
    "\n",
    "model.add(Conv2D(125, (5, 5), activation='relu', strides=(1, 1), padding='valid'))\n",
    "model.add(Conv2D(150, (5, 5), activation='relu', strides=(1, 1), padding='valid'))\n",
    "model.add(MaxPool2D(pool_size=(4, 4), padding='valid'))\n",
    "\n",
    "model.add(Conv2D(200, (5, 5), activation='relu', strides=(1, 1), padding='valid'))\n",
    "model.add(MaxPool2D(pool_size=(4, 4), padding='valid'))\n",
    "\n",
    "model.add(Flatten())\n",
    "\n",
    "model.add(Dense(units=100, activation='sigmoid'))\n",
    "model.add(Dense(units=1, activation='sigmoid'))\n",
    "\n",
    "model.compile(loss='binary_crossentropy', optimizer=\"sgd\", metrics=['accuracy'])"
   ]
  },
  {
   "cell_type": "code",
   "execution_count": null,
   "metadata": {
    "colab": {
     "base_uri": "https://localhost:8080/",
     "height": 34
    },
    "colab_type": "code",
    "id": "KXi2gqoOAPU7",
    "outputId": "a8e245ba-1f69-4d9b-984c-d66970bdc1bf"
   },
   "outputs": [],
   "source": [
    "model.fit(X_train, Y_train, epochs=2,validation_data=(X_valid,Y_valid))\n",
    "# model.fit(X_train, Y_train, epochs=10,validation_data=(X_valid,Y_valid))"
   ]
  },
  {
   "cell_type": "code",
   "execution_count": null,
   "metadata": {
    "colab": {},
    "colab_type": "code",
    "id": "WzIxgavqAPU-"
   },
   "outputs": [],
   "source": [
    "# change filter size for convolutional layer and pooling size for pooling layer\n",
    "\n",
    "from keras.layers import GlobalMaxPool2D\n",
    "\n",
    "model = Sequential()\n",
    "    \n",
    "model.add(InputLayer(input_shape=(224, 224, 3)))\n",
    "\n",
    "model.add(Conv2D(125, (5, 5), activation='relu', strides=(1, 1), padding='valid'))\n",
    "model.add(Conv2D(150, (5, 5), activation='relu', strides=(1, 1), padding='valid'))\n",
    "model.add(MaxPool2D(pool_size=(8, 8), padding='valid'))\n",
    "\n",
    "model.add(Conv2D(200, (3, 3), activation='relu', strides=(1, 1), padding='valid'))\n",
    "model.add(Conv2D(225, (3, 3), activation='relu', strides=(1, 1), padding='valid'))\n",
    "\n",
    "model.add(GlobalMaxPool2D())\n",
    "\n",
    "model.add(Dense(units=100, activation='sigmoid'))\n",
    "model.add(Dense(units=1, activation='sigmoid'))\n",
    "\n",
    "model.compile(loss='binary_crossentropy', optimizer=\"sgd\", metrics=['accuracy'])"
   ]
  },
  {
   "cell_type": "code",
   "execution_count": null,
   "metadata": {
    "colab": {},
    "colab_type": "code",
    "id": "eqRIrBneAPVC"
   },
   "outputs": [],
   "source": [
    "model.summary()"
   ]
  },
  {
   "cell_type": "code",
   "execution_count": null,
   "metadata": {
    "colab": {},
    "colab_type": "code",
    "id": "D-exJkKcAPVF"
   },
   "outputs": [],
   "source": [
    "model.fit(X_train, Y_train, epochs=2,validation_data=(X_valid,Y_valid))\n",
    "# model.fit(X_train, Y_train, epochs=10,validation_data=(X_valid,Y_valid))"
   ]
  },
  {
   "cell_type": "code",
   "execution_count": null,
   "metadata": {
    "colab": {},
    "colab_type": "code",
    "id": "yGaMH13RAPVK"
   },
   "outputs": [],
   "source": [
    "# change padding technique\n",
    "\n",
    "model = Sequential()\n",
    "    \n",
    "model.add(InputLayer(input_shape=(224, 224, 3)))\n",
    "\n",
    "model.add(Conv2D(125, (5, 5), activation='relu', strides=(1, 1), padding='same'))\n",
    "model.add(Conv2D(150, (5, 5), activation='relu', strides=(1, 1), padding='same'))\n",
    "model.add(MaxPool2D(pool_size=(8, 8), padding='valid'))\n",
    "\n",
    "model.add(Conv2D(200, (3, 3), activation='relu', strides=(1, 1), padding='same'))\n",
    "model.add(Conv2D(225, (3, 3), activation='relu', strides=(1, 1), padding='same'))\n",
    "\n",
    "model.add(GlobalMaxPool2D())\n",
    "\n",
    "model.add(Dense(units=100, activation='relu'))\n",
    "model.add(Dense(units=1, activation='sigmoid'))\n",
    "\n",
    "model.compile(loss='binary_crossentropy', optimizer=\"adam\", metrics=['accuracy'])"
   ]
  },
  {
   "cell_type": "code",
   "execution_count": null,
   "metadata": {
    "colab": {},
    "colab_type": "code",
    "id": "mW0odiaaAPVN"
   },
   "outputs": [],
   "source": [
    "model.summary()"
   ]
  },
  {
   "cell_type": "code",
   "execution_count": null,
   "metadata": {
    "colab": {},
    "colab_type": "code",
    "id": "xSM0DpFpAPVP"
   },
   "outputs": [],
   "source": [
    "model.fit(X_train, Y_train, epochs=2,validation_data=(X_valid,Y_valid))\n",
    "# model.fit(X_train, Y_train, epochs=10,validation_data=(X_valid,Y_valid))"
   ]
  },
  {
   "cell_type": "code",
   "execution_count": null,
   "metadata": {
    "colab": {},
    "colab_type": "code",
    "id": "oDLlkWEEAPVT"
   },
   "outputs": [],
   "source": [
    "# change stride\n",
    "\n",
    "model = Sequential()\n",
    "    \n",
    "model.add(InputLayer(input_shape=(224, 224, 3)))\n",
    "\n",
    "model.add(Conv2D(125, (5, 5), activation='relu', strides=(2, 2), padding='same'))\n",
    "model.add(Conv2D(150, (5, 5), activation='relu', strides=(2, 2), padding='same'))\n",
    "model.add(MaxPool2D(pool_size=(8, 8), padding='valid'))\n",
    "\n",
    "model.add(Conv2D(200, (3, 3), activation='relu', strides=(2, 2), padding='same'))\n",
    "model.add(Conv2D(225, (3, 3), activation='relu', strides=(2, 2), padding='same'))\n",
    "\n",
    "model.add(GlobalMaxPool2D())\n",
    "\n",
    "model.add(Dense(units=100, activation='sigmoid'))\n",
    "model.add(Dense(units=1, activation='sigmoid'))\n",
    "\n",
    "model.compile(loss='binary_crossentropy', optimizer=\"adam\", metrics=['accuracy'])"
   ]
  },
  {
   "cell_type": "code",
   "execution_count": null,
   "metadata": {
    "colab": {},
    "colab_type": "code",
    "id": "KHWoLJ4nAPVX"
   },
   "outputs": [],
   "source": [
    "model.summary()"
   ]
  },
  {
   "cell_type": "code",
   "execution_count": null,
   "metadata": {
    "colab": {},
    "colab_type": "code",
    "id": "-Ed_bhZ1APVa"
   },
   "outputs": [],
   "source": [
    "model.fit(X_train, Y_train, epochs=2,validation_data=(X_valid,Y_valid))\n",
    "# model.fit(X_train, Y_train, epochs=10,validation_data=(X_valid,Y_valid))"
   ]
  },
  {
   "cell_type": "code",
   "execution_count": null,
   "metadata": {
    "colab": {},
    "colab_type": "code",
    "id": "zpdtIc0hAPVd"
   },
   "outputs": [],
   "source": [
    "# VGG equivalent\n",
    "\n",
    "model = Sequential()\n",
    "model.add(InputLayer(input_shape=(224,224,3)))\n",
    "model.add(Conv2D(filters = 64, kernel_size = (3,3), activation='relu', padding='same'))\n",
    "model.add(Conv2D(filters = 64, kernel_size = (3,3), activation='relu', padding='same'))\n",
    "model.add(MaxPool2D(pool_size=(2,2)))\n",
    "\n",
    "model.add(Conv2D(filters = 128, kernel_size = (3,3), activation='relu', padding='same'))\n",
    "model.add(Conv2D(filters = 128, kernel_size = (3,3), activation='relu', padding='same'))\n",
    "model.add(MaxPool2D(pool_size=(2,2)))\n",
    "\n",
    "model.add(Conv2D(filters = 256, kernel_size = (3,3), activation='relu', padding='same'))\n",
    "model.add(Conv2D(filters = 256, kernel_size = (3,3), activation='relu', padding='same'))\n",
    "model.add(Conv2D(filters = 256, kernel_size = (3,3), activation='relu', padding='same'))\n",
    "model.add(MaxPool2D(pool_size=(2,2)))\n",
    "\n",
    "model.add(Conv2D(filters = 256, kernel_size = (3,3), activation='relu', padding='same'))\n",
    "model.add(Conv2D(filters = 256, kernel_size = (3,3), activation='relu', padding='same'))\n",
    "model.add(Conv2D(filters = 256, kernel_size = (3,3), activation='relu', padding='same'))\n",
    "model.add(MaxPool2D(pool_size=(2,2)))\n",
    "\n",
    "model.add(Conv2D(filters = 512, kernel_size = (3,3), activation='relu', padding='same'))\n",
    "model.add(Conv2D(filters = 512, kernel_size = (3,3), activation='relu', padding='same'))\n",
    "model.add(Conv2D(filters = 512, kernel_size = (3,3), activation='relu', padding='same'))\n",
    "model.add(MaxPool2D(pool_size=(2,2)))\n",
    "\n",
    "model.add(Flatten())\n",
    "\n",
    "model.add(Dense(units = 1024, activation ='sigmoid'))\n",
    "model.add(Dense(units=1, activation = 'sigmoid'))\n",
    "\n",
    "\n",
    "model.compile(loss='binary_crossentropy', optimizer=\"sgd\", metrics=['accuracy'])"
   ]
  },
  {
   "cell_type": "code",
   "execution_count": null,
   "metadata": {
    "colab": {},
    "colab_type": "code",
    "id": "NhHmbj6bAPVg",
    "scrolled": true
   },
   "outputs": [],
   "source": [
    "model.summary()"
   ]
  },
  {
   "cell_type": "code",
   "execution_count": null,
   "metadata": {
    "colab": {},
    "colab_type": "code",
    "id": "73aiBhUvAPVj",
    "scrolled": true
   },
   "outputs": [],
   "source": [
    "model.fit(X_train, Y_train, epochs=2,validation_data=(X_valid,Y_valid))\n",
    "# model.fit(X_train, Y_train, epochs=10,validation_data=(X_valid,Y_valid))"
   ]
  }
 ],
 "metadata": {
  "colab": {
   "collapsed_sections": [],
   "name": "3. convolutional nn in Keras for classification as emergency vehicle.ipynb",
   "provenance": [
    {
     "file_id": "https://github.com/amrik220/imageProcessing/blob/master/classify_as_emergency_vehicle/3.%20convolutional%20nn%20in%20Keras%20for%20classification%20as%20emergency%20vehicle.ipynb",
     "timestamp": 1597274957916
    }
   ]
  },
  "kernelspec": {
   "display_name": "Python 3",
   "language": "python",
   "name": "python3"
  },
  "language_info": {
   "codemirror_mode": {
    "name": "ipython",
    "version": 3
   },
   "file_extension": ".py",
   "mimetype": "text/x-python",
   "name": "python",
   "nbconvert_exporter": "python",
   "pygments_lexer": "ipython3",
   "version": "3.7.6"
  }
 },
 "nbformat": 4,
 "nbformat_minor": 1
}
